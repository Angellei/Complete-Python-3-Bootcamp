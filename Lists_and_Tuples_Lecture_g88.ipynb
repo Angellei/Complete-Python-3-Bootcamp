{
  "nbformat": 4,
  "nbformat_minor": 0,
  "metadata": {
    "colab": {
      "name": "Lists and Tuples Lecture - g88.ipynb",
      "version": "0.3.2",
      "provenance": [],
      "collapsed_sections": [],
      "include_colab_link": true
    },
    "kernelspec": {
      "name": "python3",
      "display_name": "Python 3"
    }
  },
  "cells": [
    {
      "cell_type": "markdown",
      "metadata": {
        "id": "view-in-github",
        "colab_type": "text"
      },
      "source": [
        "<a href=\"https://colab.research.google.com/github/Angellei/Complete-Python-3-Bootcamp/blob/master/Lists_and_Tuples_Lecture_g88.ipynb\" target=\"_parent\"><img src=\"https://colab.research.google.com/assets/colab-badge.svg\" alt=\"Open In Colab\"/></a>"
      ]
    },
    {
      "metadata": {
        "id": "j27WaIFhomIZ",
        "colab_type": "code",
        "colab": {}
      },
      "cell_type": "code",
      "source": [
        "#IGNORE THIS\n",
        "from random import choice, shuffle\n",
        "students = [\"derek\", \"dominique\",\"angel\",\"colin\",\"jinglie\",\"david yang\",\n",
        "           \"gulomjon\",\"phil\",\"david macias\",\"anastasia\",\"troy\",\"marcia\",\n",
        "           \"karina\",\"marcus\",\"christopher\",\"lori\",\"ian\",\"jiachun\",\"david smith\",\n",
        "           \"jenny\",\"claire\",\"larry\",\"noah\",\"jon\",\"david nordfors\",\"paul\",\"alex\",\n",
        "           \"maxwell\",\"orson\",\"shiyan\",\"james\",\"winston\"]\n",
        "coldcall = lambda students: choice(students)"
      ],
      "execution_count": 0,
      "outputs": []
    },
    {
      "metadata": {
        "id": "9LJlxk_xvGHD",
        "colab_type": "code",
        "outputId": "395fdda6-7091-4ca3-8f6e-e911b33f2555",
        "colab": {
          "base_uri": "https://localhost:8080/",
          "height": 34
        }
      },
      "cell_type": "code",
      "source": [
        "coldcall(students)"
      ],
      "execution_count": 0,
      "outputs": [
        {
          "output_type": "execute_result",
          "data": {
            "text/plain": [
              "'david yang'"
            ]
          },
          "metadata": {
            "tags": []
          },
          "execution_count": 16
        }
      ]
    },
    {
      "metadata": {
        "id": "LrWQI9EDuxFR",
        "colab_type": "text"
      },
      "cell_type": "markdown",
      "source": [
        "How do you know which functions can you use in the random library "
      ]
    },
    {
      "metadata": {
        "id": "vGXHxk6RopjI",
        "colab_type": "text"
      },
      "cell_type": "markdown",
      "source": [
        "# Quick refresher: functions\n",
        "\n",
        "Functions are reusable chunks of code. For example we, here's some code:"
      ]
    },
    {
      "metadata": {
        "id": "UlR4dd9eo7dL",
        "colab_type": "code",
        "outputId": "045cbdcd-1fce-4372-d594-42803bb401d7",
        "colab": {
          "base_uri": "https://localhost:8080/",
          "height": 68
        }
      },
      "cell_type": "code",
      "source": [
        "print( \"hello Brandon how are you?\" )\n",
        "print( \"very fine and you?\" )\n",
        "print( \"very good thank you.\" )"
      ],
      "execution_count": 0,
      "outputs": [
        {
          "output_type": "stream",
          "text": [
            "hello Brandon how are you?\n",
            "very fine and you?\n",
            "very good thank you.\n"
          ],
          "name": "stdout"
        }
      ]
    },
    {
      "metadata": {
        "id": "UXLvdWqXpIXm",
        "colab_type": "text"
      },
      "cell_type": "markdown",
      "source": [
        "We can package it in a **function** like this:"
      ]
    },
    {
      "metadata": {
        "id": "Ixf4nDLWpT4H",
        "colab_type": "code",
        "colab": {}
      },
      "cell_type": "code",
      "source": [
        "def polite_exchange():\n",
        "  print( \"hello Brandon how are you?\" )\n",
        "  print( \"very fine and you?\" )\n",
        "  print( \"very good thank you.\" )"
      ],
      "execution_count": 0,
      "outputs": []
    },
    {
      "metadata": {
        "id": "XCMOvi0FpZU8",
        "colab_type": "text"
      },
      "cell_type": "markdown",
      "source": [
        "At this point we can run all the code by **calling** the function, like this:"
      ]
    },
    {
      "metadata": {
        "id": "lmDr6JrGpfqR",
        "colab_type": "code",
        "outputId": "e240823f-5147-408c-baac-860633e5ddff",
        "colab": {
          "base_uri": "https://localhost:8080/",
          "height": 68
        }
      },
      "cell_type": "code",
      "source": [
        "polite_exchange()"
      ],
      "execution_count": 0,
      "outputs": [
        {
          "output_type": "stream",
          "text": [
            "hello Brandon how are you?\n",
            "very fine and you?\n",
            "very good thank you.\n"
          ],
          "name": "stdout"
        }
      ]
    },
    {
      "metadata": {
        "id": "hFDB96DFs8nQ",
        "colab_type": "code",
        "outputId": "8caaab4f-9662-473a-ed6d-25dd9bbc50c3",
        "colab": {
          "base_uri": "https://localhost:8080/",
          "height": 170
        }
      },
      "cell_type": "code",
      "source": [
        "for i in range(3):\n",
        "  polite_exchange()"
      ],
      "execution_count": 0,
      "outputs": [
        {
          "output_type": "stream",
          "text": [
            "hello Brandon how are you?\n",
            "very fine and you?\n",
            "very good thank you.\n",
            "hello Brandon how are you?\n",
            "very fine and you?\n",
            "very good thank you.\n",
            "hello Brandon how are you?\n",
            "very fine and you?\n",
            "very good thank you.\n"
          ],
          "name": "stdout"
        }
      ]
    },
    {
      "metadata": {
        "id": "N6XF-p76pjCM",
        "colab_type": "text"
      },
      "cell_type": "markdown",
      "source": [
        "If we want to pass information into the function, we can define a list of variables to act as a sort of window into the function body. Like so:\n"
      ]
    },
    {
      "metadata": {
        "id": "zgF4Iz0yx_bi",
        "colab_type": "code",
        "colab": {}
      },
      "cell_type": "code",
      "source": [
        ""
      ],
      "execution_count": 0,
      "outputs": []
    },
    {
      "metadata": {
        "id": "Fu6wLVywp3BF",
        "colab_type": "code",
        "outputId": "4f44a943-6a83-43ad-c190-86a7754c0ada",
        "colab": {
          "base_uri": "https://localhost:8080/",
          "height": 130
        }
      },
      "cell_type": "code",
      "source": [
        "def polite_exchange(name):\n",
        "  print( \"hello \"+name+\" how are you?\" )\n",
        "  print( \"very fine and you?\" )\n",
        "  print( \"very good thank you.\" )"
      ],
      "execution_count": 0,
      "outputs": [
        {
          "output_type": "error",
          "ename": "SyntaxError",
          "evalue": "ignored",
          "traceback": [
            "\u001b[0;36m  File \u001b[0;32m\"<ipython-input-7-a35f005cafdf>\"\u001b[0;36m, line \u001b[0;32m2\u001b[0m\n\u001b[0;31m    print( \"hello \" name \" how are you?\" )\u001b[0m\n\u001b[0m                       ^\u001b[0m\n\u001b[0;31mSyntaxError\u001b[0m\u001b[0;31m:\u001b[0m invalid syntax\n"
          ]
        }
      ]
    },
    {
      "metadata": {
        "id": "bjceVTXlp_AO",
        "colab_type": "text"
      },
      "cell_type": "markdown",
      "source": [
        "At this point, you when you call the function you can pass an expression in through that window."
      ]
    },
    {
      "metadata": {
        "id": "n9MyOub9qFQs",
        "colab_type": "code",
        "outputId": "508064fa-0116-4a5f-9c13-a4b8460ea3ce",
        "colab": {
          "base_uri": "https://localhost:8080/",
          "height": 68
        }
      },
      "cell_type": "code",
      "source": [
        "polite_exchange(\"Zoltron\")"
      ],
      "execution_count": 0,
      "outputs": [
        {
          "output_type": "stream",
          "text": [
            "hello Zoltron how are you?\n",
            "very fine and you?\n",
            "very good thank you.\n"
          ],
          "name": "stdout"
        }
      ]
    },
    {
      "metadata": {
        "id": "JFll5riqtkaD",
        "colab_type": "code",
        "colab": {}
      },
      "cell_type": "code",
      "source": [
        "def increment(a):\n",
        "  return a+1"
      ],
      "execution_count": 0,
      "outputs": []
    },
    {
      "metadata": {
        "id": "R2Lbodgvtns4",
        "colab_type": "code",
        "outputId": "84a7aacf-1e5d-4e16-e706-cf310df3883f",
        "colab": {
          "base_uri": "https://localhost:8080/",
          "height": 34
        }
      },
      "cell_type": "code",
      "source": [
        "increment(4)"
      ],
      "execution_count": 0,
      "outputs": [
        {
          "output_type": "execute_result",
          "data": {
            "text/plain": [
              "5"
            ]
          },
          "metadata": {
            "tags": []
          },
          "execution_count": 9
        }
      ]
    },
    {
      "metadata": {
        "id": "zl2SzpPDts_V",
        "colab_type": "code",
        "outputId": "1e7554bb-4a21-48d0-8abb-706cd9366e22",
        "colab": {
          "base_uri": "https://localhost:8080/",
          "height": 34
        }
      },
      "cell_type": "code",
      "source": [
        "increment"
      ],
      "execution_count": 0,
      "outputs": [
        {
          "output_type": "execute_result",
          "data": {
            "text/plain": [
              "<function __main__.increment>"
            ]
          },
          "metadata": {
            "tags": []
          },
          "execution_count": 10
        }
      ]
    },
    {
      "metadata": {
        "id": "AzawJl7Et6ft",
        "colab_type": "code",
        "outputId": "70fb420b-cf42-438c-8d5e-1f48ff0c4f94",
        "colab": {
          "base_uri": "https://localhost:8080/",
          "height": 34
        }
      },
      "cell_type": "code",
      "source": [
        "type(increment)"
      ],
      "execution_count": 0,
      "outputs": [
        {
          "output_type": "execute_result",
          "data": {
            "text/plain": [
              "function"
            ]
          },
          "metadata": {
            "tags": []
          },
          "execution_count": 11
        }
      ]
    },
    {
      "metadata": {
        "id": "5uAjkUtZt8J3",
        "colab_type": "code",
        "colab": {}
      },
      "cell_type": "code",
      "source": [
        "a_variable = lambda a: a+1"
      ],
      "execution_count": 0,
      "outputs": []
    },
    {
      "metadata": {
        "id": "mzOdc2w3uAJH",
        "colab_type": "code",
        "outputId": "4b8954ed-9c24-4c1a-b3b7-6547c3a37424",
        "colab": {
          "base_uri": "https://localhost:8080/",
          "height": 34
        }
      },
      "cell_type": "code",
      "source": [
        "a_variable"
      ],
      "execution_count": 0,
      "outputs": [
        {
          "output_type": "execute_result",
          "data": {
            "text/plain": [
              "<function __main__.<lambda>>"
            ]
          },
          "metadata": {
            "tags": []
          },
          "execution_count": 14
        }
      ]
    },
    {
      "metadata": {
        "id": "Xi8hH0M_ayeb",
        "colab_type": "text"
      },
      "cell_type": "markdown",
      "source": [
        "# Collections: Lists and Tuples\n",
        "\n",
        "## Review from yesterday \n",
        "\n",
        "1. Control flow\n",
        "  - branching: `if`, `elif`, `else`\n",
        "  - looping: `for`, `while` (`continue`, `break`)\n",
        "1. Variables\n",
        "  - Strings (words)\n",
        "  - Numbers (floats and integers and booleans)\n",
        "\n",
        "Lets consider that we may want to store many of these variables in a single data structure\n",
        "\n",
        "### Goals:\n",
        "\n",
        "- How do we store many pieces of data in a single structure?\n",
        "- What kind of structures do we have available to us?\n",
        "- How can we manipulate these data structures and use the data in them?\n",
        "- Remember **list** is a protected keyword!!"
      ]
    },
    {
      "metadata": {
        "id": "l9adxrCOcg8S",
        "colab_type": "text"
      },
      "cell_type": "markdown",
      "source": [
        "## Collections and Iteration\n",
        "* Collection: **holding data**\n",
        "* Iteration: **going through data** in collection\n",
        "\n",
        "### Collections\n",
        "\n",
        "**Collections** are a class of data types that gather together conceptually related data into a whole. \n",
        "\n",
        "**Examples:**\n",
        "- lists\n",
        "- sets\n",
        "- tuples\n",
        "- dictionaries\n",
        "\n",
        "#### Question?  What are the differences between these collections? \n",
        "\n",
        "\n",
        "We will discuss four main types of collections today: **lists, tuples, sets, and dictionaries**.\n",
        "\n",
        "First lecture: lists, tuples\n",
        "Second lecture: sets, dictionaries\n",
        "\n",
        "### Iteration\n",
        "\n",
        "**Iteration** is the process of visiting each member of a collection, and taking an action on it. \n",
        "\n",
        "For example:\n",
        "* visit all the strings in a list and join the various words into a sentence\n",
        "* visit all the numbers in a set and calculate the sum of them all"
      ]
    },
    {
      "metadata": {
        "id": "t3asAbl-vsKP",
        "colab_type": "text"
      },
      "cell_type": "markdown",
      "source": [
        "lists: \n",
        "sets: unique value. keys only\n",
        "tuples: unmutuable-you can't change the value\n",
        "dictionaries: keys and values\n"
      ]
    },
    {
      "metadata": {
        "id": "2y4sfaGcwYY2",
        "colab_type": "code",
        "colab": {}
      },
      "cell_type": "code",
      "source": [
        "a_list = [1,2,3,4,5]\n"
      ],
      "execution_count": 0,
      "outputs": []
    },
    {
      "metadata": {
        "id": "DRW7fO3DweTe",
        "colab_type": "code",
        "colab": {}
      },
      "cell_type": "code",
      "source": [
        "a_list[3] = \"foobar\""
      ],
      "execution_count": 0,
      "outputs": []
    },
    {
      "metadata": {
        "id": "AkN172THwmPn",
        "colab_type": "code",
        "outputId": "3f980510-bb1c-4f73-c81f-07d892bef4fe",
        "colab": {
          "base_uri": "https://localhost:8080/",
          "height": 34
        }
      },
      "cell_type": "code",
      "source": [
        "a_list"
      ],
      "execution_count": 0,
      "outputs": [
        {
          "output_type": "execute_result",
          "data": {
            "text/plain": [
              "[1, 2, 3, 'foobar', 5]"
            ]
          },
          "metadata": {
            "tags": []
          },
          "execution_count": 19
        }
      ]
    },
    {
      "metadata": {
        "id": "9QEV8PznwrBv",
        "colab_type": "code",
        "colab": {}
      },
      "cell_type": "code",
      "source": [
        "a_tuple = (1,2,3,4,5)"
      ],
      "execution_count": 0,
      "outputs": []
    },
    {
      "metadata": {
        "id": "PdhBj0SowxCU",
        "colab_type": "code",
        "outputId": "c51bc3ed-ddef-43fe-bf65-6c813f2df9f7",
        "colab": {
          "base_uri": "https://localhost:8080/",
          "height": 34
        }
      },
      "cell_type": "code",
      "source": [
        "a_tuple"
      ],
      "execution_count": 0,
      "outputs": [
        {
          "output_type": "execute_result",
          "data": {
            "text/plain": [
              "(1, 2, 3, 4, 5)"
            ]
          },
          "metadata": {
            "tags": []
          },
          "execution_count": 21
        }
      ]
    },
    {
      "metadata": {
        "id": "4ATKUsQdwy-f",
        "colab_type": "code",
        "outputId": "d276541b-9d8e-42c4-ad39-0c62825a2623",
        "colab": {
          "base_uri": "https://localhost:8080/",
          "height": 164
        }
      },
      "cell_type": "code",
      "source": [
        "a_tuple.drop(3)"
      ],
      "execution_count": 0,
      "outputs": [
        {
          "output_type": "error",
          "ename": "AttributeError",
          "evalue": "ignored",
          "traceback": [
            "\u001b[0;31m---------------------------------------------------------------------------\u001b[0m",
            "\u001b[0;31mAttributeError\u001b[0m                            Traceback (most recent call last)",
            "\u001b[0;32m<ipython-input-4-a74e1c72e2b2>\u001b[0m in \u001b[0;36m<module>\u001b[0;34m()\u001b[0m\n\u001b[0;32m----> 1\u001b[0;31m \u001b[0ma_tuple\u001b[0m\u001b[0;34m.\u001b[0m\u001b[0mdrop\u001b[0m\u001b[0;34m(\u001b[0m\u001b[0;36m3\u001b[0m\u001b[0;34m)\u001b[0m\u001b[0;34m\u001b[0m\u001b[0;34m\u001b[0m\u001b[0m\n\u001b[0m",
            "\u001b[0;31mAttributeError\u001b[0m: 'tuple' object has no attribute 'drop'"
          ]
        }
      ]
    },
    {
      "metadata": {
        "id": "WjBVTDrhduRP",
        "colab_type": "text"
      },
      "cell_type": "markdown",
      "source": [
        "-----\n",
        "## Lists\n",
        "\n",
        "- list notation:\n",
        "` [.....]`\n",
        "\n",
        "#### What can go inside a list?\n",
        "\n",
        "- Numbers\n",
        "- Strings\n",
        "- Numbers and strings\n",
        "- Other lists (matrix)"
      ]
    },
    {
      "metadata": {
        "id": "Dyt4UtnSgDkF",
        "colab_type": "code",
        "colab": {}
      },
      "cell_type": "code",
      "source": [
        "lst1 = [1,2,3,4]\n",
        "lst2 = ['strings','can','go','in','lists']\n",
        "lst3 = ['strings', 'and',3,4,5]\n",
        "lst4 = ['pretty much anything can go in here!']"
      ],
      "execution_count": 0,
      "outputs": []
    },
    {
      "metadata": {
        "id": "UAFJb58QxkAx",
        "colab_type": "code",
        "colab": {}
      },
      "cell_type": "code",
      "source": [
        "square = lambda x: x*x"
      ],
      "execution_count": 0,
      "outputs": []
    },
    {
      "metadata": {
        "id": "rz_5ChJqxos9",
        "colab_type": "code",
        "outputId": "3b91e1f3-7224-42b7-cb8d-6c84c7b15795",
        "colab": {
          "base_uri": "https://localhost:8080/",
          "height": 34
        }
      },
      "cell_type": "code",
      "source": [
        "type(square)"
      ],
      "execution_count": 0,
      "outputs": [
        {
          "output_type": "execute_result",
          "data": {
            "text/plain": [
              "function"
            ]
          },
          "metadata": {
            "tags": []
          },
          "execution_count": 24
        }
      ]
    },
    {
      "metadata": {
        "id": "nrimbVAfxqZw",
        "colab_type": "code",
        "outputId": "ec47c885-5072-41ee-a8b5-cf75a7bbce76",
        "colab": {
          "base_uri": "https://localhost:8080/",
          "height": 164
        }
      },
      "cell_type": "code",
      "source": [
        "a_weir = [1,2,\"foobar\", square, a_type]"
      ],
      "execution_count": 0,
      "outputs": [
        {
          "output_type": "error",
          "ename": "NameError",
          "evalue": "ignored",
          "traceback": [
            "\u001b[0;31m---------------------------------------------------------------------------\u001b[0m",
            "\u001b[0;31mNameError\u001b[0m                                 Traceback (most recent call last)",
            "\u001b[0;32m<ipython-input-25-1cc05a4cadf8>\u001b[0m in \u001b[0;36m<module>\u001b[0;34m()\u001b[0m\n\u001b[0;32m----> 1\u001b[0;31m \u001b[0ma_weir\u001b[0m \u001b[0;34m=\u001b[0m \u001b[0;34m[\u001b[0m\u001b[0;36m1\u001b[0m\u001b[0;34m,\u001b[0m\u001b[0;36m2\u001b[0m\u001b[0;34m,\u001b[0m\u001b[0;34m\"foobar\"\u001b[0m\u001b[0;34m,\u001b[0m \u001b[0msquare\u001b[0m\u001b[0;34m,\u001b[0m \u001b[0ma_type\u001b[0m\u001b[0;34m]\u001b[0m\u001b[0;34m\u001b[0m\u001b[0;34m\u001b[0m\u001b[0m\n\u001b[0m",
            "\u001b[0;31mNameError\u001b[0m: name 'a_type' is not defined"
          ]
        }
      ]
    },
    {
      "metadata": {
        "id": "dkSOlUZ1gJZm",
        "colab_type": "text"
      },
      "cell_type": "markdown",
      "source": [
        "### What is the length of a list\n",
        "- The number of pieces of data that we are storing in the list"
      ]
    },
    {
      "metadata": {
        "id": "sLVYa3D2gNiR",
        "colab_type": "code",
        "outputId": "1bb17ef1-dd83-4c58-ff05-bcab9f705284",
        "colab": {
          "base_uri": "https://localhost:8080/",
          "height": 34
        }
      },
      "cell_type": "code",
      "source": [
        "# Length of list 1\n",
        "print('The length of list one is: ',len(lst1))"
      ],
      "execution_count": 0,
      "outputs": [
        {
          "output_type": "stream",
          "text": [
            "The length of list one is:  4\n"
          ],
          "name": "stdout"
        }
      ]
    },
    {
      "metadata": {
        "id": "93WEuiX3gPP_",
        "colab_type": "text"
      },
      "cell_type": "markdown",
      "source": [
        "#### Your Turn -- (with a partner)\n",
        "1. Add a cell\n",
        "2. Create a list (put whatever you want in it)\n",
        "3. Find the length of the list\n",
        "\n",
        "**Challenge: Using the length of the list and algebraic operations, make the notebook print out the number 6 (without the length of the list being 6)**\n"
      ]
    },
    {
      "metadata": {
        "id": "dYYt1binyGsi",
        "colab_type": "code",
        "colab": {
          "base_uri": "https://localhost:8080/",
          "height": 34
        },
        "outputId": "8d1b90b1-75f4-449c-8a87-def318d1da4a"
      },
      "cell_type": "code",
      "source": [
        "a = [\"yes\", 1, 2, 5]\n",
        "len(a)"
      ],
      "execution_count": 32,
      "outputs": [
        {
          "output_type": "execute_result",
          "data": {
            "text/plain": [
              "4"
            ]
          },
          "metadata": {
            "tags": []
          },
          "execution_count": 32
        }
      ]
    },
    {
      "metadata": {
        "id": "sp0Qfegzybzs",
        "colab_type": "code",
        "colab": {}
      },
      "cell_type": "code",
      "source": [
        "a[1] = 6"
      ],
      "execution_count": 0,
      "outputs": []
    },
    {
      "metadata": {
        "id": "IOQzsu-8yfhD",
        "colab_type": "code",
        "colab": {
          "base_uri": "https://localhost:8080/",
          "height": 34
        },
        "outputId": "7d2d7b05-09a5-4429-ac8c-21312ade1f9b"
      },
      "cell_type": "code",
      "source": [
        "a"
      ],
      "execution_count": 31,
      "outputs": [
        {
          "output_type": "execute_result",
          "data": {
            "text/plain": [
              "['yes', 6, 2, 5]"
            ]
          },
          "metadata": {
            "tags": []
          },
          "execution_count": 31
        }
      ]
    },
    {
      "metadata": {
        "id": "S26BKjafgWsK",
        "colab_type": "text"
      },
      "cell_type": "markdown",
      "source": [
        "### Indexes!  \n",
        "- The index refers to the location that data point is at\n",
        "\n",
        "For example with out list `lst1 = [1,2,3,4]` the number `1` is at the 0th index and the number `4` is at the 3rd index.  Lets explore this a little more"
      ]
    },
    {
      "metadata": {
        "id": "QKRmxh_KggKR",
        "colab_type": "code",
        "outputId": "494780be-0f7f-41ec-d82d-748bcf07830a",
        "colab": {
          "base_uri": "https://localhost:8080/",
          "height": 34
        }
      },
      "cell_type": "code",
      "source": [
        "# Print the list\n",
        "print(lst1)"
      ],
      "execution_count": 0,
      "outputs": [
        {
          "output_type": "stream",
          "text": [
            "[1, 2, 3, 4]\n"
          ],
          "name": "stdout"
        }
      ]
    },
    {
      "metadata": {
        "id": "7g0bw4D-y3_X",
        "colab_type": "code",
        "colab": {}
      },
      "cell_type": "code",
      "source": [
        ""
      ],
      "execution_count": 0,
      "outputs": []
    },
    {
      "metadata": {
        "id": "82gCI8tpgiEI",
        "colab_type": "code",
        "outputId": "317a1e83-d0eb-4cf9-af0b-be8712f31914",
        "colab": {
          "base_uri": "https://localhost:8080/",
          "height": 34
        }
      },
      "cell_type": "code",
      "source": [
        "# Get the item at index 0\n",
        "lst1[0]"
      ],
      "execution_count": 0,
      "outputs": [
        {
          "output_type": "execute_result",
          "data": {
            "text/plain": [
              "1"
            ]
          },
          "metadata": {
            "tags": []
          },
          "execution_count": 5
        }
      ]
    },
    {
      "metadata": {
        "id": "4D4uY80AgjFq",
        "colab_type": "code",
        "outputId": "ad4c3e8d-6871-4e5d-eab0-d2bfa6746777",
        "colab": {
          "base_uri": "https://localhost:8080/",
          "height": 34
        }
      },
      "cell_type": "code",
      "source": [
        "# Get the items starting at index 1 and going to index 2\n",
        "lst1[1:3]"
      ],
      "execution_count": 0,
      "outputs": [
        {
          "output_type": "execute_result",
          "data": {
            "text/plain": [
              "[2, 3]"
            ]
          },
          "metadata": {
            "tags": []
          },
          "execution_count": 6
        }
      ]
    },
    {
      "metadata": {
        "id": "QmQTPBgLzaBN",
        "colab_type": "code",
        "colab": {}
      },
      "cell_type": "code",
      "source": [
        "lst1= [1,2,3,4,5]"
      ],
      "execution_count": 0,
      "outputs": []
    },
    {
      "metadata": {
        "id": "BH5HgsqhzWXp",
        "colab_type": "code",
        "colab": {
          "base_uri": "https://localhost:8080/",
          "height": 34
        },
        "outputId": "659f97e7-80cf-40e6-a7a4-63f929781536"
      },
      "cell_type": "code",
      "source": [
        "lst1[3:1]"
      ],
      "execution_count": 35,
      "outputs": [
        {
          "output_type": "execute_result",
          "data": {
            "text/plain": [
              "[]"
            ]
          },
          "metadata": {
            "tags": []
          },
          "execution_count": 35
        }
      ]
    },
    {
      "metadata": {
        "id": "aVfnDyi0zQki",
        "colab_type": "text"
      },
      "cell_type": "markdown",
      "source": [
        "slicing not include the last index"
      ]
    },
    {
      "metadata": {
        "id": "GV2MGqeAzGhd",
        "colab_type": "code",
        "colab": {}
      },
      "cell_type": "code",
      "source": [
        ""
      ],
      "execution_count": 0,
      "outputs": []
    },
    {
      "metadata": {
        "id": "Lh0j7Vk9gkZr",
        "colab_type": "code",
        "outputId": "c07ba68e-3f5a-4d46-a086-cb0cbf692ccb",
        "colab": {
          "base_uri": "https://localhost:8080/",
          "height": 34
        }
      },
      "cell_type": "code",
      "source": [
        "# Get the items up to index 3\n",
        "lst1[:3]"
      ],
      "execution_count": 0,
      "outputs": [
        {
          "output_type": "execute_result",
          "data": {
            "text/plain": [
              "[1, 2, 3]"
            ]
          },
          "metadata": {
            "tags": []
          },
          "execution_count": 7
        }
      ]
    },
    {
      "metadata": {
        "id": "IbRawXdHglsF",
        "colab_type": "code",
        "outputId": "091a942b-fabf-493b-c238-0c4f53b1c9c0",
        "colab": {
          "base_uri": "https://localhost:8080/",
          "height": 34
        }
      },
      "cell_type": "code",
      "source": [
        "# Get the items from index 1 to the end\n",
        "lst1[1:]"
      ],
      "execution_count": 0,
      "outputs": [
        {
          "output_type": "execute_result",
          "data": {
            "text/plain": [
              "[2, 3, 4]"
            ]
          },
          "metadata": {
            "tags": []
          },
          "execution_count": 8
        }
      ]
    },
    {
      "metadata": {
        "id": "cZKPXhdcgm66",
        "colab_type": "text"
      },
      "cell_type": "markdown",
      "source": [
        "#### Your turn!  Lets say that we have the following list:\n",
        "\n",
        "`lst = [10,3,4,2,50,22,18,19]`\n",
        "\n",
        "- What index is 10 at?\n",
        "\n",
        "- What index is 50 at?\n",
        "\n",
        "- What code would I use to get the numbers `[4,2,50,22]`?"
      ]
    },
    {
      "metadata": {
        "id": "yx8dRKaE1BPg",
        "colab_type": "code",
        "colab": {
          "base_uri": "https://localhost:8080/",
          "height": 34
        },
        "outputId": "f912d583-30af-425c-8176-4d2d3cd34670"
      },
      "cell_type": "code",
      "source": [
        "lst = [10,3,4,2,50,22,18,19]\n",
        "lst [2:-3]"
      ],
      "execution_count": 37,
      "outputs": [
        {
          "output_type": "execute_result",
          "data": {
            "text/plain": [
              "[4, 2, 50]"
            ]
          },
          "metadata": {
            "tags": []
          },
          "execution_count": 37
        }
      ]
    },
    {
      "metadata": {
        "id": "PeTZLhTfgsu3",
        "colab_type": "text"
      },
      "cell_type": "markdown",
      "source": [
        "### Common Methods that can be applied to a list:\n",
        "\n",
        "#### Appending to a list \n",
        "\n",
        "You can add to the end of a list using the append method! \n",
        "\n",
        "`lst.append(number)`\n",
        "\n",
        "\n",
        "#### Inserting into a specific index\n",
        "\n",
        "Inserts the element at the given index, shifting elements to the right.\n",
        "\n",
        "`list.insert(index, elem)`\n",
        "\n",
        "#### Extending a list\n",
        "\n",
        "Adds the elements in list2 to the end of the list.\n",
        "\n",
        "`list.extend(list2) `\n",
        "\n",
        "You can append as may numbers as you like to a list, but if your list get HUGE you will find it slows down operations dramatically"
      ]
    },
    {
      "metadata": {
        "id": "x9QD1f2x1VQa",
        "colab_type": "code",
        "colab": {}
      },
      "cell_type": "code",
      "source": [
        "lst = [10,3,4,2,50,22,18,19]\n",
        "lst.clear()"
      ],
      "execution_count": 0,
      "outputs": []
    },
    {
      "metadata": {
        "id": "7OamnSpIg2Ah",
        "colab_type": "code",
        "outputId": "ff54d40d-fa64-423b-9b6e-ccd4e7d0ea87",
        "colab": {
          "base_uri": "https://localhost:8080/",
          "height": 51
        }
      },
      "cell_type": "code",
      "source": [
        "lst = [1,2,3]\n",
        "print('Here is the list: ',lst)\n",
        "lst.append(10)\n",
        "print('Here is the list with a number appended to it! ',lst)"
      ],
      "execution_count": 0,
      "outputs": [
        {
          "output_type": "stream",
          "text": [
            "Here is the list:  [1, 2, 3]\n",
            "Here is the list with a number appended to it!  [1, 2, 3, 10]\n"
          ],
          "name": "stdout"
        }
      ]
    },
    {
      "metadata": {
        "id": "kJNzxQ4lg5ia",
        "colab_type": "text"
      },
      "cell_type": "markdown",
      "source": [
        "#### Your turn!  \n",
        "1. Create a list **(Dont use the name list -- Its protected)**\n",
        "2. Insert a value into the front of the list\n",
        "3. Append a value to back of the list\n",
        "4. Insert a value in the middle of the list (you pick the index)\n",
        "5. Extend your list with a list that someone else made!"
      ]
    },
    {
      "metadata": {
        "id": "POKFTROq1ykI",
        "colab_type": "code",
        "colab": {}
      },
      "cell_type": "code",
      "source": [
        "here_is = [4,5,6,7,8,9,3]\n",
        "here_is[0] = 9\n",
        "here_is.append(10)\n",
        "here_is.insert(5, \"middle\")\n",
        "lst1 = [1,2]"
      ],
      "execution_count": 0,
      "outputs": []
    },
    {
      "metadata": {
        "id": "86p6bSvi2YVE",
        "colab_type": "code",
        "colab": {}
      },
      "cell_type": "code",
      "source": [
        "here_is.extend(lst1)"
      ],
      "execution_count": 0,
      "outputs": []
    },
    {
      "metadata": {
        "id": "ReMd2cPj17dx",
        "colab_type": "code",
        "colab": {
          "base_uri": "https://localhost:8080/",
          "height": 34
        },
        "outputId": "22eabd7d-3b34-4cad-9c39-e107c0524b6e"
      },
      "cell_type": "code",
      "source": [
        "here_is"
      ],
      "execution_count": 59,
      "outputs": [
        {
          "output_type": "execute_result",
          "data": {
            "text/plain": [
              "[9, 5, 6, 7, 8, 'middle', 9, 3, 10, 1, 2]"
            ]
          },
          "metadata": {
            "tags": []
          },
          "execution_count": 59
        }
      ]
    },
    {
      "metadata": {
        "id": "PNwmnFUD4NY4",
        "colab_type": "code",
        "colab": {}
      },
      "cell_type": "code",
      "source": [
        "lst = [12,3,4,5]\n",
        "lst1= [93,83,2,0]\n",
        "lst += lst1\n",
        "lst.append(lst1)"
      ],
      "execution_count": 0,
      "outputs": []
    },
    {
      "metadata": {
        "id": "PNPgeGFW4W69",
        "colab_type": "code",
        "colab": {
          "base_uri": "https://localhost:8080/",
          "height": 34
        },
        "outputId": "5a580b6d-328f-4aaa-e2d8-96059dec0e44"
      },
      "cell_type": "code",
      "source": [
        "lst"
      ],
      "execution_count": 62,
      "outputs": [
        {
          "output_type": "execute_result",
          "data": {
            "text/plain": [
              "[12, 3, 4, 5, 93, 83, 2, 0]"
            ]
          },
          "metadata": {
            "tags": []
          },
          "execution_count": 62
        }
      ]
    },
    {
      "metadata": {
        "id": "47DiFl1Ag7jR",
        "colab_type": "text"
      },
      "cell_type": "markdown",
      "source": [
        "## The `In` operator\n",
        "We can use the in operatior to see if a number exists in our list\n",
        "\n",
        "This will return a **boolean value**."
      ]
    },
    {
      "metadata": {
        "id": "msBI7qs25J2g",
        "colab_type": "code",
        "colab": {}
      },
      "cell_type": "code",
      "source": [
        "alst = [1,2,3,4,5]\n"
      ],
      "execution_count": 0,
      "outputs": []
    },
    {
      "metadata": {
        "id": "M7dEXlV05MxY",
        "colab_type": "code",
        "colab": {
          "base_uri": "https://localhost:8080/",
          "height": 34
        },
        "outputId": "72abb736-204a-4812-8dbc-d8ee3b623ba8"
      },
      "cell_type": "code",
      "source": [
        "(2 in alst)"
      ],
      "execution_count": 65,
      "outputs": [
        {
          "output_type": "execute_result",
          "data": {
            "text/plain": [
              "True"
            ]
          },
          "metadata": {
            "tags": []
          },
          "execution_count": 65
        }
      ]
    },
    {
      "metadata": {
        "id": "359kxVJghCji",
        "colab_type": "code",
        "outputId": "e437cc25-98d3-44f3-92a8-a287a277d782",
        "colab": {
          "base_uri": "https://localhost:8080/",
          "height": 102
        }
      },
      "cell_type": "code",
      "source": [
        "lst = [10,3,4,2,50,22,18,19]\n",
        "print(4 in lst)\n",
        "print(33 in lst)\n",
        "print('hello' in lst)\n",
        "print('--'*50)\n",
        "\n",
        "\n",
        "if 4 in lst:\n",
        "  print('Wow I can use the in operator to generate booleans!')"
      ],
      "execution_count": 0,
      "outputs": [
        {
          "output_type": "stream",
          "text": [
            "True\n",
            "False\n",
            "False\n",
            "----------------------------------------------------------------------------------------------------\n",
            "Wow I can use the in operator to generate booleans!\n"
          ],
          "name": "stdout"
        }
      ]
    },
    {
      "metadata": {
        "id": "yjlQiUouhF86",
        "colab_type": "text"
      },
      "cell_type": "markdown",
      "source": [
        "### Your turn\n",
        "\n",
        "1. Create a new list\n",
        "2. Check to see if 'Cat' is in your list\n",
        "  - If it isn't add 'Cat' to your list\n",
        "  - if it is print 'I read Brandon's mind and added cat to my list'\n",
        " \n",
        "Play with the in operator and see if it works with floats, integers, and strings!"
      ]
    },
    {
      "metadata": {
        "id": "uewwD2c9hLPx",
        "colab_type": "text"
      },
      "cell_type": "markdown",
      "source": [
        "This is super useful for `if` statements:"
      ]
    },
    {
      "metadata": {
        "id": "lw0CMNhRjMOQ",
        "colab_type": "code",
        "colab": {}
      },
      "cell_type": "code",
      "source": [
        "birthdays = [\"fon\", \"lam\", \"ted\"]\n",
        "students = [\"mer\", \"rod\", \"lam\", \"sue\"]\n",
        "for s in students:\n",
        "  if ( s in birthdays ):\n",
        "    print( \"happy birthday, %s\"%s )"
      ],
      "execution_count": 0,
      "outputs": []
    },
    {
      "metadata": {
        "id": "9tDtu5E5571C",
        "colab_type": "text"
      },
      "cell_type": "markdown",
      "source": [
        "you can also use set method to do this question"
      ]
    },
    {
      "metadata": {
        "id": "a0NORsbClg-1",
        "colab_type": "text"
      },
      "cell_type": "markdown",
      "source": [
        "## Iterating through a list!\n",
        "We can go through each number in the list using a `for` loop!  And also we can go through each index in the list\n",
        "\n",
        "**Start with iterating through each value in a list**\n",
        "- number refers to the value in the list"
      ]
    },
    {
      "metadata": {
        "id": "0YcP5LoQlehO",
        "colab_type": "code",
        "outputId": "da63ddad-c287-4ebd-d4ca-cefbe697128f",
        "colab": {
          "base_uri": "https://localhost:8080/",
          "height": 85
        }
      },
      "cell_type": "code",
      "source": [
        "lst1 = [1,2,3,4]\n",
        "for number in lst1:\n",
        "    print(number)"
      ],
      "execution_count": 0,
      "outputs": [
        {
          "output_type": "stream",
          "text": [
            "1\n",
            "2\n",
            "3\n",
            "4\n"
          ],
          "name": "stdout"
        }
      ]
    },
    {
      "metadata": {
        "id": "oSsTBbKY6nM9",
        "colab_type": "code",
        "colab": {
          "base_uri": "https://localhost:8080/",
          "height": 34
        },
        "outputId": "3ef9b38b-df60-4cdc-bfe1-5f8c045d8f44"
      },
      "cell_type": "code",
      "source": [
        "list(range(len(lst1)))"
      ],
      "execution_count": 66,
      "outputs": [
        {
          "output_type": "execute_result",
          "data": {
            "text/plain": [
              "[0, 1, 2, 3]"
            ]
          },
          "metadata": {
            "tags": []
          },
          "execution_count": 66
        }
      ]
    },
    {
      "metadata": {
        "id": "nSKJ1G-Floa9",
        "colab_type": "text"
      },
      "cell_type": "markdown",
      "source": [
        "Or we could iterate through the numbers using the **index!!**\n",
        "\n",
        "- i refers to the index of the lst"
      ]
    },
    {
      "metadata": {
        "id": "FwrvmNsKlsE2",
        "colab_type": "code",
        "outputId": "8a5a6b19-5873-4b0c-8257-9cf69bbc1252",
        "colab": {
          "base_uri": "https://localhost:8080/",
          "height": 85
        }
      },
      "cell_type": "code",
      "source": [
        "lst1 = [1,2,3,4]\n",
        "for i in range(len(lst1)):\n",
        "    print(lst1[i])"
      ],
      "execution_count": 0,
      "outputs": [
        {
          "output_type": "stream",
          "text": [
            "1\n",
            "2\n",
            "3\n",
            "4\n"
          ],
          "name": "stdout"
        }
      ]
    },
    {
      "metadata": {
        "id": "rXuDyF-nlt-W",
        "colab_type": "text"
      },
      "cell_type": "markdown",
      "source": [
        "Or we could iterate through both of these at the same time using the `enumerate` command:"
      ]
    },
    {
      "metadata": {
        "id": "l-FaRihalwFp",
        "colab_type": "code",
        "outputId": "8fd0103c-cef0-418e-c2da-3337f178f793",
        "colab": {
          "base_uri": "https://localhost:8080/",
          "height": 85
        }
      },
      "cell_type": "code",
      "source": [
        "lst1 = [1,2,3,4]\n",
        "for i,number in enumerate(lst1):\n",
        "    print('index: ',i,'|| Value: ',number)"
      ],
      "execution_count": 0,
      "outputs": [
        {
          "output_type": "stream",
          "text": [
            "index:  0 || Value:  1\n",
            "index:  1 || Value:  2\n",
            "index:  2 || Value:  3\n",
            "index:  3 || Value:  4\n"
          ],
          "name": "stdout"
        }
      ]
    },
    {
      "metadata": {
        "id": "ak8VgAm17TnM",
        "colab_type": "code",
        "colab": {
          "base_uri": "https://localhost:8080/",
          "height": 34
        },
        "outputId": "2984aa92-196b-40c8-e0bc-36325d0533cb"
      },
      "cell_type": "code",
      "source": [
        "print(list(enumerate(lst1)))"
      ],
      "execution_count": 67,
      "outputs": [
        {
          "output_type": "stream",
          "text": [
            "[(0, 93), (1, 83), (2, 2), (3, 0)]\n"
          ],
          "name": "stdout"
        }
      ]
    },
    {
      "metadata": {
        "id": "NYbp2THJ7v99",
        "colab_type": "code",
        "colab": {
          "base_uri": "https://localhost:8080/",
          "height": 86
        },
        "outputId": "66b71e4b-0ec7-47fb-a037-135b6b4f7ae0"
      },
      "cell_type": "code",
      "source": [
        "lst1 = [1,2,3,4]\n",
        "for i,_ in enumerate(lst1):\n",
        "   print(i)\n",
        "    #print('index: ',i,'|| Value: ',number)"
      ],
      "execution_count": 68,
      "outputs": [
        {
          "output_type": "stream",
          "text": [
            "0\n",
            "1\n",
            "2\n",
            "3\n"
          ],
          "name": "stdout"
        }
      ]
    },
    {
      "metadata": {
        "id": "M6zzZ4MHlxjE",
        "colab_type": "text"
      },
      "cell_type": "markdown",
      "source": [
        "#### Your Turn!\n",
        "1. Create a new list (with numbers in it)\n",
        "2. Create a new empty list\n",
        "3. Iterate through the list with numbers and square each value\n",
        "4. Append the squared value to the end of the empty list\n",
        "5. Print the new list with the squared numbers\n",
        "\n",
        "**Challenge: Complete the task above once using the index of the list and once using the values in the list**"
      ]
    },
    {
      "metadata": {
        "id": "d2fjfkKi78lq",
        "colab_type": "code",
        "colab": {
          "base_uri": "https://localhost:8080/",
          "height": 34
        },
        "outputId": "e03dde88-d5c0-40b0-9d1a-663439f5db61"
      },
      "cell_type": "code",
      "source": [
        "#square = lambda x: x**2\n",
        "new_list = [1,2,4,5,6]\n",
        "empty_list = []\n",
        "\n",
        "#for item in new_list:\n",
        "  #empty_list.append(item**2)\n",
        "#print(empty_list)\n",
        "\n",
        "empty_list.extend(x**2 for x in new_list)\n",
        "print(empty_list)"
      ],
      "execution_count": 82,
      "outputs": [
        {
          "output_type": "stream",
          "text": [
            "[1, 4, 16, 25, 36]\n"
          ],
          "name": "stdout"
        }
      ]
    },
    {
      "metadata": {
        "id": "26Rerzokl2y9",
        "colab_type": "text"
      },
      "cell_type": "markdown",
      "source": [
        "----------------\n",
        "## Tuples!\n",
        "- Notation!`(.....)`\n",
        "\n",
        "- Length is the same as lists!\n",
        "- Indexing is the same as lists!\n",
        "- Lists can be changed -- Tuples cannot (Mutability, vs Immutable)"
      ]
    },
    {
      "metadata": {
        "id": "PLfn6WIfl7W7",
        "colab_type": "code",
        "outputId": "f56f653e-4888-4c8c-ef4f-e7e8e1b6ea8c",
        "colab": {
          "base_uri": "https://localhost:8080/",
          "height": 34
        }
      },
      "cell_type": "code",
      "source": [
        "# Mutability Example\n",
        "lst1 = [1,2,3,4] \n",
        "lst1[0] = 10\n",
        "print(lst1)"
      ],
      "execution_count": 0,
      "outputs": [
        {
          "output_type": "stream",
          "text": [
            "[10, 2, 3, 4]\n"
          ],
          "name": "stdout"
        }
      ]
    },
    {
      "metadata": {
        "id": "V6v6J4wmBdI1",
        "colab_type": "code",
        "colab": {}
      },
      "cell_type": "code",
      "source": [
        "alist = []\n",
        "for item in enumerate([a, b, c]):\n",
        "  "
      ],
      "execution_count": 0,
      "outputs": []
    },
    {
      "metadata": {
        "id": "CDqGs5KVl968",
        "colab_type": "code",
        "outputId": "d4cae7fe-03b5-444f-dfc2-949c897188e4",
        "colab": {
          "base_uri": "https://localhost:8080/",
          "height": 34
        }
      },
      "cell_type": "code",
      "source": [
        "# Immutable Example (continued below)\n",
        "tup1 = (1,2,3)\n",
        "print(tup1[0])"
      ],
      "execution_count": 0,
      "outputs": [
        {
          "output_type": "stream",
          "text": [
            "1\n"
          ],
          "name": "stdout"
        }
      ]
    },
    {
      "metadata": {
        "id": "WNHv-jXxl_Wv",
        "colab_type": "code",
        "outputId": "b1ad4ed8-af9c-449f-a824-82aa3f85ae26",
        "colab": {
          "base_uri": "https://localhost:8080/",
          "height": 164
        }
      },
      "cell_type": "code",
      "source": [
        "tuple[0] = 3\n",
        "\n"
      ],
      "execution_count": 0,
      "outputs": [
        {
          "output_type": "error",
          "ename": "TypeError",
          "evalue": "ignored",
          "traceback": [
            "\u001b[0;31m---------------------------------------------------------------------------\u001b[0m",
            "\u001b[0;31mTypeError\u001b[0m                                 Traceback (most recent call last)",
            "\u001b[0;32m<ipython-input-24-ac49bb8ca6c7>\u001b[0m in \u001b[0;36m<module>\u001b[0;34m()\u001b[0m\n\u001b[0;32m----> 1\u001b[0;31m \u001b[0mtup1\u001b[0m\u001b[0;34m[\u001b[0m\u001b[0;36m0\u001b[0m\u001b[0;34m]\u001b[0m \u001b[0;34m=\u001b[0m \u001b[0;36m3\u001b[0m\u001b[0;34m\u001b[0m\u001b[0;34m\u001b[0m\u001b[0m\n\u001b[0m",
            "\u001b[0;31mTypeError\u001b[0m: 'tuple' object does not support item assignment"
          ]
        }
      ]
    },
    {
      "metadata": {
        "id": "Ln_gG67emBWK",
        "colab_type": "text"
      },
      "cell_type": "markdown",
      "source": [
        "#### Your Turn:\n",
        "\n",
        "1. Make a tuple that contains 4 numbers\n",
        "2. Make a tuple that contains 4 words"
      ]
    },
    {
      "metadata": {
        "id": "rXEOJVQTmEFx",
        "colab_type": "text"
      },
      "cell_type": "markdown",
      "source": [
        "Can have a list of tuples!"
      ]
    },
    {
      "metadata": {
        "id": "XgZDWr-2mLj9",
        "colab_type": "code",
        "colab": {}
      },
      "cell_type": "code",
      "source": [
        "lst = [(1,2),(2,3),(3,4)]"
      ],
      "execution_count": 0,
      "outputs": []
    },
    {
      "metadata": {
        "id": "U_vjE-EWmQ9S",
        "colab_type": "text"
      },
      "cell_type": "markdown",
      "source": [
        "- Tuples can be any length\n",
        "- Useful for holding `x,y` pairs or `x,y,z,...` pairs\n",
        "\n",
        "-----\n",
        "\n",
        "Iteration works the same with tuples!  \n",
        " \n",
        "- Look at iterating through one tuple"
      ]
    },
    {
      "metadata": {
        "id": "exGABVf5mZ7E",
        "colab_type": "code",
        "outputId": "cdb502d2-649e-4635-d1fa-c6d027fe125e",
        "colab": {
          "base_uri": "https://localhost:8080/",
          "height": 68
        }
      },
      "cell_type": "code",
      "source": [
        "tup1 = (1,2,3)\n",
        "\n",
        "for value in tup1:\n",
        "    print(value)"
      ],
      "execution_count": 0,
      "outputs": [
        {
          "output_type": "stream",
          "text": [
            "1\n",
            "2\n",
            "3\n"
          ],
          "name": "stdout"
        }
      ]
    },
    {
      "metadata": {
        "id": "H_V1wU18maOx",
        "colab_type": "text"
      },
      "cell_type": "markdown",
      "source": [
        "- Look at iterating through list of tuples:"
      ]
    },
    {
      "metadata": {
        "id": "l_nbYuqxmfxN",
        "colab_type": "code",
        "outputId": "00a49377-76f3-4bbe-f84d-13d4fe4b58dd",
        "colab": {
          "base_uri": "https://localhost:8080/",
          "height": 187
        }
      },
      "cell_type": "code",
      "source": [
        "lst = [(1,2),(2,3)]\n",
        "for tup in lst:\n",
        "    print('\\nPrinting Tuple Values\\n','--'*10,)\n",
        "    for i,value in enumerate(tup):\n",
        "        print('Tuple index ',i,' = ', value)\n"
      ],
      "execution_count": 0,
      "outputs": [
        {
          "output_type": "stream",
          "text": [
            "\n",
            "Printing Tuple Values\n",
            " --------------------\n",
            "Tuple index  0  =  1\n",
            "Tuple index  1  =  2\n",
            "\n",
            "Printing Tuple Values\n",
            " --------------------\n",
            "Tuple index  0  =  2\n",
            "Tuple index  1  =  3\n"
          ],
          "name": "stdout"
        }
      ]
    },
    {
      "metadata": {
        "id": "GxYmJ-T1miqi",
        "colab_type": "text"
      },
      "cell_type": "markdown",
      "source": [
        "**Your Turn**\n",
        "1. Make a list of tuples\n",
        "2. Iterate through your list\n",
        "3. Create a new tuple that is the reverse of each of your tuples and add it to a new list\n",
        "4. Print the original and new list of tuples\n",
        "\n",
        "Example:\n",
        "\n",
        " ``` \n",
        " original = [(1,2),(2,3)]\n",
        " transformed = [(2,1),(3,2)]\n",
        " ```"
      ]
    },
    {
      "metadata": {
        "id": "UqMWsJQtmn7x",
        "colab_type": "code",
        "colab": {
          "base_uri": "https://localhost:8080/",
          "height": 34
        },
        "outputId": "cd81484f-c88d-40ca-a396-c2b5e1dc7bf3"
      },
      "cell_type": "code",
      "source": [
        "%timeit 1+2"
      ],
      "execution_count": 83,
      "outputs": [
        {
          "output_type": "stream",
          "text": [
            "10000000 loops, best of 3: 20.4 ns per loop\n"
          ],
          "name": "stdout"
        }
      ]
    },
    {
      "metadata": {
        "id": "5MoXgePoCWgd",
        "colab_type": "code",
        "colab": {
          "base_uri": "https://localhost:8080/",
          "height": 119
        },
        "outputId": "e3b55ac2-625a-4658-c5f5-799b51256691"
      },
      "cell_type": "code",
      "source": [
        "nested = [[1,2,3],['a','b','c']]\n",
        "\n",
        "for sub in nested:\n",
        "  for item in sub:\n",
        "    print(item)"
      ],
      "execution_count": 85,
      "outputs": [
        {
          "output_type": "stream",
          "text": [
            "1\n",
            "2\n",
            "3\n",
            "a\n",
            "b\n",
            "c\n"
          ],
          "name": "stdout"
        }
      ]
    }
  ]
}