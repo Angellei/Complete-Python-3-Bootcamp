{
  "nbformat": 4,
  "nbformat_minor": 0,
  "metadata": {
    "colab": {
      "name": "Libraries primer - g88",
      "version": "0.3.2",
      "provenance": [],
      "collapsed_sections": [],
      "include_colab_link": true
    },
    "kernelspec": {
      "display_name": "Python 3",
      "language": "python",
      "name": "python3"
    }
  },
  "cells": [
    {
      "cell_type": "markdown",
      "metadata": {
        "id": "view-in-github",
        "colab_type": "text"
      },
      "source": [
        "<a href=\"https://colab.research.google.com/github/Angellei/Complete-Python-3-Bootcamp/blob/master/Libraries_primer_g88.ipynb\" target=\"_parent\"><img src=\"https://colab.research.google.com/assets/colab-badge.svg\" alt=\"Open In Colab\"/></a>"
      ]
    },
    {
      "metadata": {
        "id": "VbpC_UrG2eSj",
        "colab_type": "text"
      },
      "cell_type": "markdown",
      "source": [
        "# Quick Primer: Some Useful Packages"
      ]
    },
    {
      "metadata": {
        "id": "OEFRAxth2eSk",
        "colab_type": "text"
      },
      "cell_type": "markdown",
      "source": [
        "Packages are collections of functions, classes, and constants. Python only has a very small set of built-in functions. For example, maybe you want to know the current working directory:"
      ]
    },
    {
      "metadata": {
        "id": "WiszIY452eSk",
        "colab_type": "code",
        "outputId": "eb3fa3d7-4fe6-4f3d-80ac-988dbe48065c",
        "colab": {
          "base_uri": "https://localhost:8080/",
          "height": 166
        }
      },
      "cell_type": "code",
      "source": [
        "getcwd()"
      ],
      "execution_count": 0,
      "outputs": [
        {
          "output_type": "error",
          "ename": "NameError",
          "evalue": "ignored",
          "traceback": [
            "\u001b[0;31m---------------------------------------------------------------------------\u001b[0m",
            "\u001b[0;31mNameError\u001b[0m                                 Traceback (most recent call last)",
            "\u001b[0;32m<ipython-input-26-80c72379bb65>\u001b[0m in \u001b[0;36m<module>\u001b[0;34m()\u001b[0m\n\u001b[0;32m----> 1\u001b[0;31m \u001b[0mgetcwd\u001b[0m\u001b[0;34m(\u001b[0m\u001b[0;34m)\u001b[0m\u001b[0;34m\u001b[0m\u001b[0;34m\u001b[0m\u001b[0m\n\u001b[0m",
            "\u001b[0;31mNameError\u001b[0m: name 'getcwd' is not defined"
          ]
        }
      ]
    },
    {
      "metadata": {
        "id": "U4QEJA0epI20",
        "colab_type": "code",
        "colab": {
          "base_uri": "https://localhost:8080/",
          "height": 34
        },
        "outputId": "fe37c8b1-2f1a-4925-dd2e-25d8d9ea38f7"
      },
      "cell_type": "code",
      "source": [
        "import os\n",
        "os.getcwd\n",
        "\n",
        "from os from getcwd\n",
        "get cwd is successful\n",
        "\n",
        "from matplotlib import pyplot as plt"
      ],
      "execution_count": 3,
      "outputs": [
        {
          "output_type": "execute_result",
          "data": {
            "text/plain": [
              "'/content'"
            ]
          },
          "metadata": {
            "tags": []
          },
          "execution_count": 3
        }
      ]
    },
    {
      "metadata": {
        "id": "dTXMvavYpMcx",
        "colab_type": "code",
        "colab": {
          "base_uri": "https://localhost:8080/",
          "height": 34
        },
        "outputId": "a264498a-76e7-490e-93b1-6ae398a17763"
      },
      "cell_type": "code",
      "source": [
        "os"
      ],
      "execution_count": 2,
      "outputs": [
        {
          "output_type": "execute_result",
          "data": {
            "text/plain": [
              "<module 'os' from '/usr/lib/python3.6/os.py'>"
            ]
          },
          "metadata": {
            "tags": []
          },
          "execution_count": 2
        }
      ]
    },
    {
      "metadata": {
        "id": "o7x5qRCC2eSt",
        "colab_type": "text"
      },
      "cell_type": "markdown",
      "source": [
        "For that, you'll need to import a package. To import a package:\n",
        "\n",
        "```python\n",
        "import PACKAGENAME\n",
        "```\n",
        "\n",
        "The `getcwd()` method is in the built-in package `os`. Thus: "
      ]
    },
    {
      "metadata": {
        "id": "zR3Ut7Ra2eSu",
        "colab_type": "code",
        "outputId": "83aa699d-bfde-4c11-be7a-2b7b2be67dc1",
        "colab": {
          "base_uri": "https://localhost:8080/",
          "height": 34
        }
      },
      "cell_type": "code",
      "source": [
        "import os\n",
        "os.getcwd()"
      ],
      "execution_count": 0,
      "outputs": [
        {
          "output_type": "execute_result",
          "data": {
            "text/plain": [
              "'/content'"
            ]
          },
          "metadata": {
            "tags": []
          },
          "execution_count": 2
        }
      ]
    },
    {
      "metadata": {
        "id": "ghAEFo902eSx",
        "colab_type": "text"
      },
      "cell_type": "markdown",
      "source": [
        "> **extra info** There are several variants of the `import` statement. The most common is:\n",
        "> ```python\n",
        "> import PACKAGENAME as ALT_NAME\n",
        "> ```\n",
        "> for example, this is common for heavily used packages, like `numpy`.\n",
        "> ```python\n",
        "> import numpy as np\n",
        "> ```"
      ]
    },
    {
      "metadata": {
        "id": "bMgTa_BX2eSz",
        "colab_type": "text"
      },
      "cell_type": "markdown",
      "source": [
        "Python has thousands of available packages. A few dozen are included with python. Here's a [full list](https://docs.python.org/3/library/).\n",
        "\n",
        "Here are a few useful packages."
      ]
    },
    {
      "metadata": {
        "id": "i5UT8y7RsgG9",
        "colab_type": "code",
        "colab": {}
      },
      "cell_type": "code",
      "source": [
        ""
      ],
      "execution_count": 0,
      "outputs": []
    },
    {
      "metadata": {
        "id": "vwhnip-O2eSz",
        "colab_type": "text"
      },
      "cell_type": "markdown",
      "source": [
        "## Some Useful Packages That Come With Python\n",
        "\n",
        "### `collections`\n",
        "\n",
        "So far we've learned about the collection types `list`, `tuple`, `set`, and `dict`. The `collections` package provides _even more_ collections.\n",
        "\n",
        "* `namedtuple`: an immutable dictionary; similar to a \"struct\" in C.\n",
        "* `OrderedDict`: a dictionary with ordered keys (note: the default in Python 3.7)\n",
        "* `Counter`: when you add items, it increments a counter for that item\n",
        "* `defaultdict`: like a dict, but returns a default value for a key that doesn't exist\n",
        "* And more! Read the docs!"
      ]
    },
    {
      "metadata": {
        "id": "AGvEwTpJspat",
        "colab_type": "code",
        "colab": {
          "base_uri": "https://localhost:8080/",
          "height": 198
        },
        "outputId": "4e7134c2-6ac3-421b-9e12-045cc838f783"
      },
      "cell_type": "code",
      "source": [
        "import collections\n",
        "Point = collections.nametuple('Point',['x','y'])\n",
        "print(Point(1,2))"
      ],
      "execution_count": 4,
      "outputs": [
        {
          "output_type": "error",
          "ename": "AttributeError",
          "evalue": "ignored",
          "traceback": [
            "\u001b[0;31m---------------------------------------------------------------------------\u001b[0m",
            "\u001b[0;31mAttributeError\u001b[0m                            Traceback (most recent call last)",
            "\u001b[0;32m<ipython-input-4-0a7259f5d7ed>\u001b[0m in \u001b[0;36m<module>\u001b[0;34m()\u001b[0m\n\u001b[1;32m      1\u001b[0m \u001b[0;32mimport\u001b[0m \u001b[0mcollections\u001b[0m\u001b[0;34m\u001b[0m\u001b[0;34m\u001b[0m\u001b[0m\n\u001b[0;32m----> 2\u001b[0;31m \u001b[0mPoint\u001b[0m \u001b[0;34m=\u001b[0m \u001b[0mcollections\u001b[0m\u001b[0;34m.\u001b[0m\u001b[0mnametuple\u001b[0m\u001b[0;34m(\u001b[0m\u001b[0;34m'Point'\u001b[0m\u001b[0;34m,\u001b[0m\u001b[0;34m[\u001b[0m\u001b[0;34m'x'\u001b[0m\u001b[0;34m,\u001b[0m\u001b[0;34m'y'\u001b[0m\u001b[0;34m]\u001b[0m\u001b[0;34m)\u001b[0m\u001b[0;34m\u001b[0m\u001b[0;34m\u001b[0m\u001b[0m\n\u001b[0m\u001b[1;32m      3\u001b[0m \u001b[0mprint\u001b[0m\u001b[0;34m(\u001b[0m\u001b[0mPoint\u001b[0m\u001b[0;34m(\u001b[0m\u001b[0;36m1\u001b[0m\u001b[0;34m,\u001b[0m\u001b[0;36m2\u001b[0m\u001b[0;34m)\u001b[0m\u001b[0;34m)\u001b[0m\u001b[0;34m\u001b[0m\u001b[0;34m\u001b[0m\u001b[0m\n",
            "\u001b[0;31mAttributeError\u001b[0m: module 'collections' has no attribute 'nametuple'"
          ]
        }
      ]
    },
    {
      "metadata": {
        "id": "9C_wD6Ws26GF",
        "colab_type": "code",
        "outputId": "cadf5ed0-738e-4493-af39-245be5bd2172",
        "colab": {
          "base_uri": "https://localhost:8080/",
          "height": 35
        }
      },
      "cell_type": "code",
      "source": [
        "import collections\n",
        "\n",
        "# namedtuple\n",
        "Point = collections.namedtuple('Point', ['x', 'y'])\n",
        "print( Point(1, 2) )"
      ],
      "execution_count": 0,
      "outputs": [
        {
          "output_type": "stream",
          "text": [
            "Point(x=1, y=2)\n"
          ],
          "name": "stdout"
        }
      ]
    },
    {
      "metadata": {
        "id": "1UDdEFnX2eS1",
        "colab_type": "code",
        "outputId": "c2cd552d-8532-4e74-c98c-966a8bcb4f97",
        "colab": {
          "base_uri": "https://localhost:8080/",
          "height": 35
        }
      },
      "cell_type": "code",
      "source": [
        "\n",
        "# counter\n",
        "story = \"mary had a very very very very little lamb\"\n",
        "ct = collections.Counter(story.split())\n",
        "print( ct[\"very\"] )"
      ],
      "execution_count": 0,
      "outputs": [
        {
          "output_type": "stream",
          "text": [
            "4\n"
          ],
          "name": "stdout"
        }
      ]
    },
    {
      "metadata": {
        "id": "jADSkBcFth0B",
        "colab_type": "code",
        "colab": {
          "base_uri": "https://localhost:8080/",
          "height": 34
        },
        "outputId": "7106f828-cac2-4895-b6de-479acb7afb76"
      },
      "cell_type": "code",
      "source": [
        "story = \"mary had a very very very very little lamb\"\n",
        "words = story.split()\n",
        "collections.Counter(words)\n",
        "\n",
        "#it counts how many keys words apears in the string"
      ],
      "execution_count": 5,
      "outputs": [
        {
          "output_type": "execute_result",
          "data": {
            "text/plain": [
              "Counter({'a': 1, 'had': 1, 'lamb': 1, 'little': 1, 'mary': 1, 'very': 4})"
            ]
          },
          "metadata": {
            "tags": []
          },
          "execution_count": 5
        }
      ]
    },
    {
      "metadata": {
        "id": "WPhv7I3F2eS4",
        "colab_type": "code",
        "outputId": "a30a9e9b-429b-461e-e92f-cc272dd80dda",
        "colab": {
          "base_uri": "https://localhost:8080/",
          "height": 35
        }
      },
      "cell_type": "code",
      "source": [
        "dd = collections.defaultdict(list)\n",
        "dd[\"nonexistent_key\"]\n",
        "dd[\"foobar\"].append( 1 )\n",
        "\n",
        "dd"
      ],
      "execution_count": 0,
      "outputs": [
        {
          "output_type": "execute_result",
          "data": {
            "text/plain": [
              "defaultdict(list, {'foobar': [1], 'nonexistent_key': []})"
            ]
          },
          "metadata": {
            "tags": []
          },
          "execution_count": 5
        }
      ]
    },
    {
      "metadata": {
        "id": "J1Nf9MQ9uf4o",
        "colab_type": "code",
        "colab": {
          "base_uri": "https://localhost:8080/",
          "height": 34
        },
        "outputId": "896ff700-8270-401d-d975-dcd724b6f0b9"
      },
      "cell_type": "code",
      "source": [
        "dd = collections.defaultdict(lambda:5) #can write as (list), (dict)\n",
        "dd[\"foo\"]"
      ],
      "execution_count": 9,
      "outputs": [
        {
          "output_type": "execute_result",
          "data": {
            "text/plain": [
              "5"
            ]
          },
          "metadata": {
            "tags": []
          },
          "execution_count": 9
        }
      ]
    },
    {
      "metadata": {
        "id": "3CDWAJlL2eS8",
        "colab_type": "text"
      },
      "cell_type": "markdown",
      "source": [
        "### `functools`"
      ]
    },
    {
      "metadata": {
        "id": "NF7fA9Y92eS9",
        "colab_type": "text"
      },
      "cell_type": "markdown",
      "source": [
        "In Python, functions are variables that can be passed into other functions. For example, I can make a function that calls an input function twice:"
      ]
    },
    {
      "metadata": {
        "id": "sli5JrwU2eS-",
        "colab_type": "code",
        "outputId": "d59e4634-defc-40fb-f532-7a744080fd98",
        "colab": {
          "base_uri": "https://localhost:8080/",
          "height": 51
        }
      },
      "cell_type": "code",
      "source": [
        "def cheer():\n",
        "    print( \"hooray!\" )\n",
        "    \n",
        "def do_it_twice(func):\n",
        "    func() \n",
        "    func()\n",
        "    \n",
        "do_it_twice( cheer )"
      ],
      "execution_count": 11,
      "outputs": [
        {
          "output_type": "stream",
          "text": [
            "hooray!\n",
            "hooray!\n"
          ],
          "name": "stdout"
        }
      ]
    },
    {
      "metadata": {
        "id": "hHI1lv-o2eTB",
        "colab_type": "text"
      },
      "cell_type": "markdown",
      "source": [
        "The `functools` package provides useful functions for manipulating functions."
      ]
    },
    {
      "metadata": {
        "id": "cIhKRfSC2eTD",
        "colab_type": "code",
        "colab": {}
      },
      "cell_type": "code",
      "source": [
        "import functools"
      ],
      "execution_count": 0,
      "outputs": []
    },
    {
      "metadata": {
        "id": "cwbsS8zu2eTH",
        "colab_type": "text"
      },
      "cell_type": "markdown",
      "source": [
        "`partial` - return a function that calls the given function with a supplied argument"
      ]
    },
    {
      "metadata": {
        "id": "8NH4s9U62eTH",
        "colab_type": "code",
        "outputId": "0dae7656-73d9-4134-8985-a3aaf0d65466",
        "colab": {
          "base_uri": "https://localhost:8080/",
          "height": 35
        }
      },
      "cell_type": "code",
      "source": [
        "def say(phrase, name):\n",
        "    print( phrase, name )\n",
        "    \n",
        "greet = functools.partial(say, \"hello\")\n",
        "greet(\"brandon\")"
      ],
      "execution_count": 0,
      "outputs": [
        {
          "output_type": "stream",
          "text": [
            "hello brandon\n"
          ],
          "name": "stdout"
        }
      ]
    },
    {
      "metadata": {
        "id": "i0na35sJ2eTL",
        "colab_type": "text"
      },
      "cell_type": "markdown",
      "source": [
        "`reduce` - iteratively apply a function to a list\n"
      ]
    },
    {
      "metadata": {
        "id": "vEuGcoTZ2eTL",
        "colab_type": "code",
        "outputId": "013ac0c3-bd41-4f24-b5f3-97e8ee291ebe",
        "colab": {
          "base_uri": "https://localhost:8080/",
          "height": 35
        }
      },
      "cell_type": "code",
      "source": [
        "# find product of list of numbers\n",
        "a = [23,4,5,5,5,1,2,3]\n",
        "\n",
        "def mult_two(a,b): return a*b\n",
        "\n",
        "functools.reduce(mult_two, a)"
      ],
      "execution_count": 0,
      "outputs": [
        {
          "output_type": "execute_result",
          "data": {
            "text/plain": [
              "69000"
            ]
          },
          "metadata": {
            "tags": []
          },
          "execution_count": 9
        }
      ]
    },
    {
      "metadata": {
        "id": "qlDNtmmw2eTP",
        "colab_type": "text"
      },
      "cell_type": "markdown",
      "source": [
        "### `itertools`\n",
        "\n",
        "`itertools` is a big toolbox full of useful things. Read [the docs](https://docs.python.org/3/library/itertools.html). Here are some good ones:"
      ]
    },
    {
      "metadata": {
        "id": "W81mzQk02eTR",
        "colab_type": "code",
        "colab": {}
      },
      "cell_type": "code",
      "source": [
        "import itertools"
      ],
      "execution_count": 0,
      "outputs": []
    },
    {
      "metadata": {
        "id": "WRcNGCs32eTT",
        "colab_type": "code",
        "outputId": "f86619cb-d695-4198-cd45-918cbafcd0a1",
        "colab": {
          "base_uri": "https://localhost:8080/",
          "height": 173
        }
      },
      "cell_type": "code",
      "source": [
        "# product - like a nested for-loop:\n",
        "list( itertools.product((1,2,3),('a','b','c')) )"
      ],
      "execution_count": 0,
      "outputs": [
        {
          "output_type": "execute_result",
          "data": {
            "text/plain": [
              "[(1, 'a'),\n",
              " (1, 'b'),\n",
              " (1, 'c'),\n",
              " (2, 'a'),\n",
              " (2, 'b'),\n",
              " (2, 'c'),\n",
              " (3, 'a'),\n",
              " (3, 'b'),\n",
              " (3, 'c')]"
            ]
          },
          "metadata": {
            "tags": []
          },
          "execution_count": 11
        }
      ]
    },
    {
      "metadata": {
        "id": "hXyaq995wi29",
        "colab_type": "code",
        "colab": {
          "base_uri": "https://localhost:8080/",
          "height": 164
        },
        "outputId": "c8c80bdb-6979-4280-e53d-1ee6c3adb308"
      },
      "cell_type": "code",
      "source": [
        "list(itertools.groupby([1,1,1,2,2,2,3,4,5,6,6]))"
      ],
      "execution_count": 12,
      "outputs": [
        {
          "output_type": "error",
          "ename": "NameError",
          "evalue": "ignored",
          "traceback": [
            "\u001b[0;31m---------------------------------------------------------------------------\u001b[0m",
            "\u001b[0;31mNameError\u001b[0m                                 Traceback (most recent call last)",
            "\u001b[0;32m<ipython-input-12-d723e0a3d348>\u001b[0m in \u001b[0;36m<module>\u001b[0;34m()\u001b[0m\n\u001b[0;32m----> 1\u001b[0;31m \u001b[0mlist\u001b[0m\u001b[0;34m(\u001b[0m\u001b[0mitertools\u001b[0m\u001b[0;34m.\u001b[0m\u001b[0mgroupby\u001b[0m\u001b[0;34m(\u001b[0m\u001b[0;34m[\u001b[0m\u001b[0;36m1\u001b[0m\u001b[0;34m,\u001b[0m\u001b[0;36m1\u001b[0m\u001b[0;34m,\u001b[0m\u001b[0;36m1\u001b[0m\u001b[0;34m,\u001b[0m\u001b[0;36m2\u001b[0m\u001b[0;34m,\u001b[0m\u001b[0;36m2\u001b[0m\u001b[0;34m,\u001b[0m\u001b[0;36m2\u001b[0m\u001b[0;34m,\u001b[0m\u001b[0;36m3\u001b[0m\u001b[0;34m,\u001b[0m\u001b[0;36m4\u001b[0m\u001b[0;34m,\u001b[0m\u001b[0;36m5\u001b[0m\u001b[0;34m,\u001b[0m\u001b[0;36m6\u001b[0m\u001b[0;34m,\u001b[0m\u001b[0;36m6\u001b[0m\u001b[0;34m]\u001b[0m\u001b[0;34m)\u001b[0m\u001b[0;34m)\u001b[0m\u001b[0;34m\u001b[0m\u001b[0;34m\u001b[0m\u001b[0m\n\u001b[0m",
            "\u001b[0;31mNameError\u001b[0m: name 'itertools' is not defined"
          ]
        }
      ]
    },
    {
      "metadata": {
        "id": "4K8YVU562eTX",
        "colab_type": "code",
        "outputId": "3d3f3be0-e943-458a-a3bb-23d38f5685b0",
        "colab": {
          "base_uri": "https://localhost:8080/",
          "height": 86
        }
      },
      "cell_type": "code",
      "source": [
        "# return groups of consecutive values with the same value key(x)\n",
        "def is_even(num): return num%2==0\n",
        "for k, v in itertools.groupby([1,2,2,4,6,3,5,6,2,2], key=is_even):\n",
        "    print(k, list(v))"
      ],
      "execution_count": 0,
      "outputs": [
        {
          "output_type": "stream",
          "text": [
            "False [1]\n",
            "True [2, 2, 4, 6]\n",
            "False [3, 5]\n",
            "True [6, 2, 2]\n"
          ],
          "name": "stdout"
        }
      ]
    },
    {
      "metadata": {
        "id": "DdSNnUjI2eTc",
        "colab_type": "code",
        "outputId": "11d5729c-8723-4095-addd-5267e458197b",
        "colab": {
          "base_uri": "https://localhost:8080/",
          "height": 225
        }
      },
      "cell_type": "code",
      "source": [
        "# repeat an iterable indefinitely\n",
        "for i, val in enumerate( itertools.cycle(\"ABCD\") ):\n",
        "    print( val )\n",
        "    if i>10:\n",
        "        break"
      ],
      "execution_count": 0,
      "outputs": [
        {
          "output_type": "stream",
          "text": [
            "A\n",
            "B\n",
            "C\n",
            "D\n",
            "A\n",
            "B\n",
            "C\n",
            "D\n",
            "A\n",
            "B\n",
            "C\n",
            "D\n"
          ],
          "name": "stdout"
        }
      ]
    },
    {
      "metadata": {
        "id": "EubSSAZ-2eTg",
        "colab_type": "text"
      },
      "cell_type": "markdown",
      "source": [
        "### `random`\n",
        "\n",
        "Perform pseudo-random sampling."
      ]
    },
    {
      "metadata": {
        "id": "9gcVRayI2eTi",
        "colab_type": "code",
        "colab": {}
      },
      "cell_type": "code",
      "source": [
        "import random\n",
        "random.seed(0)"
      ],
      "execution_count": 0,
      "outputs": []
    },
    {
      "metadata": {
        "id": "XXSFKEnz2eTk",
        "colab_type": "code",
        "outputId": "74216f16-ad07-47cf-ee1c-66932330d32f",
        "colab": {
          "base_uri": "https://localhost:8080/",
          "height": 35
        }
      },
      "cell_type": "code",
      "source": [
        "# pick a value at random from a list:\n",
        "random.choice([\"cat\", \"dog\", \"wolf\", \"horse\"])"
      ],
      "execution_count": 0,
      "outputs": [
        {
          "output_type": "execute_result",
          "data": {
            "text/plain": [
              "'horse'"
            ]
          },
          "metadata": {
            "tags": []
          },
          "execution_count": 15
        }
      ]
    },
    {
      "metadata": {
        "id": "feHDuQVG2eTo",
        "colab_type": "code",
        "colab": {}
      },
      "cell_type": "code",
      "source": [
        "# pick values from a set without replacement"
      ],
      "execution_count": 0,
      "outputs": []
    },
    {
      "metadata": {
        "id": "UNhQmQbN2eTq",
        "colab_type": "code",
        "outputId": "02e60059-6cdd-4cf4-c314-1555b2fa6d39",
        "colab": {
          "base_uri": "https://localhost:8080/",
          "height": 181
        }
      },
      "cell_type": "code",
      "source": [
        "# pick a value at random from a list:\n",
        "lst = [\"cat\", \"dog\", \"wolf\", \"horse\", 1, 2, 3, 4]\n",
        "random.sample([\"cat\", \"dog\", \"wolf\", \"horse\", 1, 2, 3, 4], k=len())"
      ],
      "execution_count": 13,
      "outputs": [
        {
          "output_type": "error",
          "ename": "NameError",
          "evalue": "ignored",
          "traceback": [
            "\u001b[0;31m---------------------------------------------------------------------------\u001b[0m",
            "\u001b[0;31mNameError\u001b[0m                                 Traceback (most recent call last)",
            "\u001b[0;32m<ipython-input-13-a5c6436dc0ee>\u001b[0m in \u001b[0;36m<module>\u001b[0;34m()\u001b[0m\n\u001b[1;32m      1\u001b[0m \u001b[0mlst\u001b[0m \u001b[0;34m=\u001b[0m \u001b[0;34m[\u001b[0m\u001b[0;34m\"cat\"\u001b[0m\u001b[0;34m,\u001b[0m \u001b[0;34m\"dog\"\u001b[0m\u001b[0;34m,\u001b[0m \u001b[0;34m\"wolf\"\u001b[0m\u001b[0;34m,\u001b[0m \u001b[0;34m\"horse\"\u001b[0m\u001b[0;34m,\u001b[0m \u001b[0;36m1\u001b[0m\u001b[0;34m,\u001b[0m \u001b[0;36m2\u001b[0m\u001b[0;34m,\u001b[0m \u001b[0;36m3\u001b[0m\u001b[0;34m,\u001b[0m \u001b[0;36m4\u001b[0m\u001b[0;34m]\u001b[0m\u001b[0;34m\u001b[0m\u001b[0;34m\u001b[0m\u001b[0m\n\u001b[0;32m----> 2\u001b[0;31m \u001b[0mrandom\u001b[0m\u001b[0;34m.\u001b[0m\u001b[0msample\u001b[0m\u001b[0;34m(\u001b[0m\u001b[0mlst\u001b[0m\u001b[0;34m,\u001b[0m \u001b[0mk\u001b[0m\u001b[0;34m=\u001b[0m\u001b[0mlen\u001b[0m\u001b[0;34m(\u001b[0m\u001b[0mlst\u001b[0m\u001b[0;34m)\u001b[0m\u001b[0;34m)\u001b[0m\u001b[0;34m\u001b[0m\u001b[0;34m\u001b[0m\u001b[0m\n\u001b[0m",
            "\u001b[0;31mNameError\u001b[0m: name 'random' is not defined"
          ]
        }
      ]
    },
    {
      "metadata": {
        "id": "0qekQowm2eTt",
        "colab_type": "code",
        "outputId": "496cf628-af87-4518-e688-4359efc54abb",
        "colab": {
          "base_uri": "https://localhost:8080/",
          "height": 35
        }
      },
      "cell_type": "code",
      "source": [
        "# generate a random float between A and B\n",
        "random.uniform(0, 10)"
      ],
      "execution_count": 0,
      "outputs": [
        {
          "output_type": "execute_result",
          "data": {
            "text/plain": [
              "9.654648863619173"
            ]
          },
          "metadata": {
            "tags": []
          },
          "execution_count": 18
        }
      ]
    },
    {
      "metadata": {
        "id": "EOXP-FTw2eTz",
        "colab_type": "code",
        "outputId": "6877bca3-478a-4f8e-b86d-b2b013be152c",
        "colab": {
          "base_uri": "https://localhost:8080/",
          "height": 35
        }
      },
      "cell_type": "code",
      "source": [
        "# generate a random int between A and B, _inclusive_\n",
        "random.randint(0, 10)"
      ],
      "execution_count": 0,
      "outputs": [
        {
          "output_type": "execute_result",
          "data": {
            "text/plain": [
              "7"
            ]
          },
          "metadata": {
            "tags": []
          },
          "execution_count": 19
        }
      ]
    },
    {
      "metadata": {
        "id": "QYlmlnxF2eT1",
        "colab_type": "text"
      },
      "cell_type": "markdown",
      "source": [
        "### `sys`\n",
        "\n",
        "Provides access to variables associated with the Python interpreter. There"
      ]
    },
    {
      "metadata": {
        "id": "D42KeOf-2eT2",
        "colab_type": "code",
        "outputId": "78dd40ba-45d6-426c-fde6-2d87cab5d372",
        "colab": {
          "base_uri": "https://localhost:8080/",
          "height": 35
        }
      },
      "cell_type": "code",
      "source": [
        "import sys\n",
        "\n",
        "print( \"path of python executable:\", sys.executable )"
      ],
      "execution_count": 0,
      "outputs": [
        {
          "output_type": "stream",
          "text": [
            "path of python executable: /usr/bin/python3\n"
          ],
          "name": "stdout"
        }
      ]
    },
    {
      "metadata": {
        "id": "frjAYIOH2eT6",
        "colab_type": "code",
        "outputId": "845ee700-7e5a-40c5-fe5b-7e288ac7fa22",
        "colab": {
          "base_uri": "https://localhost:8080/",
          "height": 35
        }
      },
      "cell_type": "code",
      "source": [
        "# current python version\n",
        "sys.version_info"
      ],
      "execution_count": 0,
      "outputs": [
        {
          "output_type": "execute_result",
          "data": {
            "text/plain": [
              "sys.version_info(major=3, minor=6, micro=7, releaselevel='final', serial=0)"
            ]
          },
          "metadata": {
            "tags": []
          },
          "execution_count": 21
        }
      ]
    },
    {
      "metadata": {
        "id": "sUXbCSOa2eT8",
        "colab_type": "text"
      },
      "cell_type": "markdown",
      "source": [
        "By far the most commonly accessed variable in `sys` is the `sys.argv`, which contains the command line arguments passed into the interpreter."
      ]
    },
    {
      "metadata": {
        "id": "CunvERe42eT-",
        "colab_type": "code",
        "outputId": "9d5ddf41-5f81-4915-b59d-11b10024ae1f",
        "colab": {
          "base_uri": "https://localhost:8080/",
          "height": 69
        }
      },
      "cell_type": "code",
      "source": [
        "sys.argv"
      ],
      "execution_count": 0,
      "outputs": [
        {
          "output_type": "execute_result",
          "data": {
            "text/plain": [
              "['/usr/local/lib/python3.6/dist-packages/ipykernel_launcher.py',\n",
              " '-f',\n",
              " '/root/.local/share/jupyter/runtime/kernel-36d800ed-1de0-4313-b7f5-6e28d6ef0017.json']"
            ]
          },
          "metadata": {
            "tags": []
          },
          "execution_count": 22
        }
      ]
    },
    {
      "metadata": {
        "id": "loPunC9v2eUB",
        "colab_type": "text"
      },
      "cell_type": "markdown",
      "source": [
        "### `os`\n",
        "\n",
        "Provides access to the operating system.\n"
      ]
    },
    {
      "metadata": {
        "id": "Im-VjIon2eUC",
        "colab_type": "code",
        "colab": {}
      },
      "cell_type": "code",
      "source": [
        "import os"
      ],
      "execution_count": 0,
      "outputs": []
    },
    {
      "metadata": {
        "id": "XurBnVG92eUF",
        "colab_type": "code",
        "outputId": "d82428b0-6151-4411-97a8-44b3d5454ef5",
        "colab": {
          "base_uri": "https://localhost:8080/",
          "height": 221
        }
      },
      "cell_type": "code",
      "source": [
        "# get environment variables\n",
        "os.getenv(\"PATH\").split(\":\")"
      ],
      "execution_count": 15,
      "outputs": [
        {
          "output_type": "execute_result",
          "data": {
            "text/plain": [
              "['/usr/local/bin',\n",
              " '/usr/local/nvidia/bin',\n",
              " '/usr/local/cuda/bin',\n",
              " '/usr/local/sbin',\n",
              " '/usr/local/bin',\n",
              " '/usr/sbin',\n",
              " '/usr/bin',\n",
              " '/sbin',\n",
              " '/bin',\n",
              " '/tools/node/bin',\n",
              " '/tools/google-cloud-sdk/bin',\n",
              " '/opt/bin']"
            ]
          },
          "metadata": {
            "tags": []
          },
          "execution_count": 15
        }
      ]
    },
    {
      "metadata": {
        "id": "X-C_rIQlzQRu",
        "colab_type": "code",
        "colab": {
          "base_uri": "https://localhost:8080/",
          "height": 125
        },
        "outputId": "4d01b2a9-6fc0-4fdc-b4a8-6909b08f3056"
      },
      "cell_type": "code",
      "source": [
        "#same as \n",
        "! $PATH"
      ],
      "execution_count": 14,
      "outputs": [
        {
          "output_type": "stream",
          "text": [
            "/bin/bash: /usr/local/bin:/usr/local/nvidia/bin:/usr/local/cuda/bin:/usr/local/sbin:/usr/local/bin:/usr/sbin:/usr/bin:/sbin:/bin:/tools/node/bin:/tools/google-cloud-sdk/bin:/opt/bin: No such file or directory\n"
          ],
          "name": "stdout"
        }
      ]
    },
    {
      "metadata": {
        "id": "PuYbXSj42eUI",
        "colab_type": "code",
        "outputId": "23c2e968-163e-49fc-8829-6e4ff3770537",
        "colab": {
          "base_uri": "https://localhost:8080/",
          "height": 466
        }
      },
      "cell_type": "code",
      "source": [
        "# get file system information\n",
        "\n",
        "os.listdir(\"/\")"
      ],
      "execution_count": 0,
      "outputs": [
        {
          "output_type": "execute_result",
          "data": {
            "text/plain": [
              "['dev',\n",
              " 'etc',\n",
              " 'media',\n",
              " 'root',\n",
              " 'usr',\n",
              " 'bin',\n",
              " 'lib',\n",
              " 'tmp',\n",
              " 'run',\n",
              " 'sys',\n",
              " 'opt',\n",
              " 'proc',\n",
              " 'boot',\n",
              " 'var',\n",
              " 'home',\n",
              " 'srv',\n",
              " 'mnt',\n",
              " 'lib64',\n",
              " 'sbin',\n",
              " '.dockerenv',\n",
              " 'tools',\n",
              " 'datalab',\n",
              " 'colabtools',\n",
              " 'swift',\n",
              " 'content',\n",
              " 'lib32']"
            ]
          },
          "metadata": {
            "tags": []
          },
          "execution_count": 25
        }
      ]
    },
    {
      "metadata": {
        "id": "Ilh-EkIp2eUN",
        "colab_type": "code",
        "colab": {}
      },
      "cell_type": "code",
      "source": [
        ""
      ],
      "execution_count": 0,
      "outputs": []
    },
    {
      "metadata": {
        "id": "XzuAILG3pGcJ",
        "colab_type": "code",
        "colab": {}
      },
      "cell_type": "code",
      "source": [
        ""
      ],
      "execution_count": 0,
      "outputs": []
    }
  ]
}