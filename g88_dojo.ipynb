{
  "nbformat": 4,
  "nbformat_minor": 0,
  "metadata": {
    "colab": {
      "name": "g88 dojo.ipynb",
      "version": "0.3.2",
      "provenance": [],
      "include_colab_link": true
    },
    "kernelspec": {
      "name": "python3",
      "display_name": "Python 3"
    }
  },
  "cells": [
    {
      "cell_type": "markdown",
      "metadata": {
        "id": "view-in-github",
        "colab_type": "text"
      },
      "source": [
        "<a href=\"https://colab.research.google.com/github/Angellei/Complete-Python-3-Bootcamp/blob/master/g88_dojo.ipynb\" target=\"_parent\"><img src=\"https://colab.research.google.com/assets/colab-badge.svg\" alt=\"Open In Colab\"/></a>"
      ]
    },
    {
      "metadata": {
        "id": "7EKWU1F4KHIx",
        "colab_type": "text"
      },
      "cell_type": "markdown",
      "source": [
        "# The g88 dojo\n",
        "\n",
        "A place we can practice together."
      ]
    },
    {
      "metadata": {
        "id": "DZ0pvFc1LTGQ",
        "colab_type": "code",
        "outputId": "dec804c7-06cb-459b-fae7-efda90a34ab6",
        "colab": {
          "base_uri": "https://localhost:8080/",
          "height": 34
        }
      },
      "cell_type": "code",
      "source": [
        "print('hello')"
      ],
      "execution_count": 0,
      "outputs": [
        {
          "output_type": "stream",
          "text": [
            "hello\n"
          ],
          "name": "stdout"
        }
      ]
    },
    {
      "metadata": {
        "id": "KrMwbJRwMIcw",
        "colab_type": "code",
        "outputId": "b0e7b015-714a-4a3d-f9cf-ed11fa310f80",
        "colab": {
          "base_uri": "https://localhost:8080/",
          "height": 34
        }
      },
      "cell_type": "code",
      "source": [
        "# brandon\n",
        "print( \"hello world from brandon\" )"
      ],
      "execution_count": 0,
      "outputs": [
        {
          "output_type": "stream",
          "text": [
            "hello world from brandon\n"
          ],
          "name": "stdout"
        }
      ]
    },
    {
      "metadata": {
        "id": "J3qjyG3yMKPT",
        "colab_type": "code",
        "outputId": "9715975b-f548-4497-da94-acf4a9b2c830",
        "colab": {
          "base_uri": "https://localhost:8080/"
        }
      },
      "cell_type": "code",
      "source": [
        "print(8)"
      ],
      "execution_count": 0,
      "outputs": [
        {
          "output_type": "stream",
          "text": [
            "8\n"
          ],
          "name": "stdout"
        }
      ]
    },
    {
      "metadata": {
        "id": "bdVLTenaSiOx",
        "colab_type": "code",
        "colab": {
          "base_uri": "https://localhost:8080/",
          "height": 181
        },
        "outputId": "76eb9a71-f09f-43fa-e2c1-f91e45f0c578"
      },
      "cell_type": "code",
      "source": [
        ""
      ],
      "execution_count": 1,
      "outputs": [
        {
          "output_type": "error",
          "ename": "TypeError",
          "evalue": "ignored",
          "traceback": [
            "\u001b[0;31m---------------------------------------------------------------------------\u001b[0m",
            "\u001b[0;31mTypeError\u001b[0m                                 Traceback (most recent call last)",
            "\u001b[0;32m<ipython-input-1-a887ebe0ae8b>\u001b[0m in \u001b[0;36m<module>\u001b[0;34m()\u001b[0m\n\u001b[1;32m      1\u001b[0m \u001b[0;32mfor\u001b[0m \u001b[0mi\u001b[0m \u001b[0;32min\u001b[0m \u001b[0mrange\u001b[0m\u001b[0;34m(\u001b[0m\u001b[0;36m10\u001b[0m\u001b[0;34m)\u001b[0m\u001b[0;34m:\u001b[0m\u001b[0;34m\u001b[0m\u001b[0;34m\u001b[0m\u001b[0m\n\u001b[0;32m----> 2\u001b[0;31m   \u001b[0mprint\u001b[0m\u001b[0;34m(\u001b[0m\u001b[0;34m\"this is the ith greeting\"\u001b[0m\u001b[0;34m%\u001b[0m\u001b[0;34m(\u001b[0m\u001b[0mi\u001b[0m\u001b[0;34m+\u001b[0m\u001b[0;36m1\u001b[0m\u001b[0;34m)\u001b[0m\u001b[0;34m)\u001b[0m\u001b[0;34m\u001b[0m\u001b[0;34m\u001b[0m\u001b[0m\n\u001b[0m",
            "\u001b[0;31mTypeError\u001b[0m: not all arguments converted during string formatting"
          ]
        }
      ]
    },
    {
      "metadata": {
        "id": "qWqOw_ybTXYB",
        "colab_type": "text"
      },
      "cell_type": "markdown",
      "source": [
        ""
      ]
    },
    {
      "metadata": {
        "id": "bdV6FBaoTplb",
        "colab_type": "code",
        "colab": {
          "base_uri": "https://localhost:8080/",
          "height": 34
        },
        "outputId": "1b38cf20-6b88-447c-92e5-09616d38710c"
      },
      "cell_type": "code",
      "source": [
        "print(\"Hello, this is Angel\")"
      ],
      "execution_count": 2,
      "outputs": [
        {
          "output_type": "stream",
          "text": [
            "Hello, this is Angel\n"
          ],
          "name": "stdout"
        }
      ]
    },
    {
      "metadata": {
        "id": "yssgUNjtTy6b",
        "colab_type": "code",
        "colab": {
          "base_uri": "https://localhost:8080/",
          "height": 34
        },
        "outputId": "4705c1a5-e932-4043-b943-27a46e8ea451"
      },
      "cell_type": "code",
      "source": [
        "print(\"use an emoji 😋\")"
      ],
      "execution_count": 3,
      "outputs": [
        {
          "output_type": "stream",
          "text": [
            "use an emoji 😋\n"
          ],
          "name": "stdout"
        }
      ]
    },
    {
      "metadata": {
        "id": "IQTNtSggUUfO",
        "colab_type": "code",
        "colab": {}
      },
      "cell_type": "code",
      "source": [
        "print(\"turns out you can use \\N \")"
      ],
      "execution_count": 0,
      "outputs": []
    },
    {
      "metadata": {
        "id": "l53LTYwsUh92",
        "colab_type": "text"
      },
      "cell_type": "markdown",
      "source": [
        "for every number between 1 and 20, print out one of your name. the pattern should be:\n"
      ]
    },
    {
      "metadata": {
        "id": "N6pqK_VvUxwq",
        "colab_type": "code",
        "colab": {
          "base_uri": "https://localhost:8080/",
          "height": 697
        },
        "outputId": "62a6b404-3150-47cb-ac2a-4e053a2d4245"
      },
      "cell_type": "code",
      "source": [
        "\n",
        "for name in range(0, 20):\n",
        "  if name%2 == 0:\n",
        "      print(\"angel\")\n",
        "      print(\"john\")\n",
        "  else:\n",
        "      print(\"angel\".upper())\n",
        "      print(\"john\".upper())\n",
        "      \n"
      ],
      "execution_count": 11,
      "outputs": [
        {
          "output_type": "stream",
          "text": [
            "angel\n",
            "john\n",
            "ANGEL\n",
            "JOHN\n",
            "angel\n",
            "john\n",
            "ANGEL\n",
            "JOHN\n",
            "angel\n",
            "john\n",
            "ANGEL\n",
            "JOHN\n",
            "angel\n",
            "john\n",
            "ANGEL\n",
            "JOHN\n",
            "angel\n",
            "john\n",
            "ANGEL\n",
            "JOHN\n",
            "angel\n",
            "john\n",
            "ANGEL\n",
            "JOHN\n",
            "angel\n",
            "john\n",
            "ANGEL\n",
            "JOHN\n",
            "angel\n",
            "john\n",
            "ANGEL\n",
            "JOHN\n",
            "angel\n",
            "john\n",
            "ANGEL\n",
            "JOHN\n",
            "angel\n",
            "john\n",
            "ANGEL\n",
            "JOHN\n"
          ],
          "name": "stdout"
        }
      ]
    },
    {
      "metadata": {
        "id": "3JKldXNOTWJo",
        "colab_type": "text"
      },
      "cell_type": "markdown",
      "source": [
        ""
      ]
    },
    {
      "metadata": {
        "id": "o4EzHynZWDRd",
        "colab_type": "code",
        "colab": {
          "base_uri": "https://localhost:8080/",
          "height": 187
        },
        "outputId": "19700088-97bb-419a-9336-55d440beb28e"
      },
      "cell_type": "code",
      "source": [
        "##print a 10 x 10 grid of s\n",
        "i = 0\n",
        "while i < 10:\n",
        "  if i%2 == 0:\n",
        "    print(\" 😋 👍 \" * 5)\n",
        "  else:\n",
        "    print(\" 👍 😋 \" * 5)\n",
        "  i += 1"
      ],
      "execution_count": 18,
      "outputs": [
        {
          "output_type": "stream",
          "text": [
            " 😋 👍  😋 👍  😋 👍  😋 👍  😋 👍 \n",
            " 👍 😋  👍 😋  👍 😋  👍 😋  👍 😋 \n",
            " 😋 👍  😋 👍  😋 👍  😋 👍  😋 👍 \n",
            " 👍 😋  👍 😋  👍 😋  👍 😋  👍 😋 \n",
            " 😋 👍  😋 👍  😋 👍  😋 👍  😋 👍 \n",
            " 👍 😋  👍 😋  👍 😋  👍 😋  👍 😋 \n",
            " 😋 👍  😋 👍  😋 👍  😋 👍  😋 👍 \n",
            " 👍 😋  👍 😋  👍 😋  👍 😋  👍 😋 \n",
            " 😋 👍  😋 👍  😋 👍  😋 👍  😋 👍 \n",
            " 👍 😋  👍 😋  👍 😋  👍 😋  👍 😋 \n"
          ],
          "name": "stdout"
        }
      ]
    },
    {
      "metadata": {
        "id": "HKJZsmzZZpQZ",
        "colab_type": "code",
        "colab": {
          "base_uri": "https://localhost:8080/",
          "height": 187
        },
        "outputId": "c7474bd5-771f-4e31-a403-e11bd1d03166"
      },
      "cell_type": "code",
      "source": [
        "m = 10\n",
        "n = 10\n",
        "for i in range(m):\n",
        "  for j in range(n):\n",
        "    if (i * m +j)%2 + i%2-1 == 0:\n",
        "      c = \"x\"\n",
        "    else:\n",
        "      c = \"o\"\n",
        "    print(c, end=\"\")\n",
        "  print(\"\")"
      ],
      "execution_count": 22,
      "outputs": [
        {
          "output_type": "stream",
          "text": [
            "oxoxoxoxox\n",
            "xoxoxoxoxo\n",
            "oxoxoxoxox\n",
            "xoxoxoxoxo\n",
            "oxoxoxoxox\n",
            "xoxoxoxoxo\n",
            "oxoxoxoxox\n",
            "xoxoxoxoxo\n",
            "oxoxoxoxox\n",
            "xoxoxoxoxo\n"
          ],
          "name": "stdout"
        }
      ]
    }
  ]
}