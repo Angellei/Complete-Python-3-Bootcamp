{
  "nbformat": 4,
  "nbformat_minor": 0,
  "metadata": {
    "colab": {
      "name": "Sets and Dictionaries Lecture - g88.ipynb",
      "version": "0.3.2",
      "provenance": [],
      "collapsed_sections": [],
      "include_colab_link": true
    },
    "kernelspec": {
      "name": "python3",
      "display_name": "Python 3"
    }
  },
  "cells": [
    {
      "cell_type": "markdown",
      "metadata": {
        "id": "view-in-github",
        "colab_type": "text"
      },
      "source": [
        "<a href=\"https://colab.research.google.com/github/Angellei/Complete-Python-3-Bootcamp/blob/master/Sets_and_Dictionaries_Lecture_g88.ipynb\" target=\"_parent\"><img src=\"https://colab.research.google.com/assets/colab-badge.svg\" alt=\"Open In Colab\"/></a>"
      ]
    },
    {
      "metadata": {
        "id": "tlrZBnan4Msy",
        "colab_type": "code",
        "outputId": "62e4ccce-e56a-43b3-ecc4-4c2b9f7739df",
        "colab": {
          "base_uri": "https://localhost:8080/",
          "height": 34
        }
      },
      "cell_type": "code",
      "source": [
        "#IGNORE THIS\n",
        "from random import choice, shuffle\n",
        "students = [\"derek\", \"dominique\",\"angel\",\"colin\",\"jinglie\",\"david yang\",\n",
        "           \"gulomjon\",\"phil\",\"david macias\",\"anastasia\",\"troy\",\"marcia\",\n",
        "           \"karina\",\"marcus\",\"christopher\",\"lori\",\"ian\",\"jiachun\",\"david smith\",\n",
        "           \"jenny\",\"claire\",\"larry\",\"noah\",\"jon\",\"david\",\n",
        "            \"nordfors\",\"paul\",\"alex\",\n",
        "           \"maxwell\",\"orson\",\"shiyan\",\"james\",\"winston\"]\n",
        "coldcall = lambda: choice(students)\n",
        "coldcall()"
      ],
      "execution_count": 8,
      "outputs": [
        {
          "output_type": "execute_result",
          "data": {
            "text/plain": [
              "'dominique'"
            ]
          },
          "metadata": {
            "tags": []
          },
          "execution_count": 8
        }
      ]
    },
    {
      "metadata": {
        "id": "J2nilfQBnUje",
        "colab_type": "text"
      },
      "cell_type": "markdown",
      "source": [
        "# Sets and Dictionaries\n",
        "\n",
        "Get ready to learn about sets and dictionaries."
      ]
    },
    {
      "metadata": {
        "id": "xgmpMyAldhtP",
        "colab_type": "text"
      },
      "cell_type": "markdown",
      "source": [
        "## 0 Objectives\n",
        "\n",
        "By the end of the lession you should be able to:\n",
        "\n",
        "### Store data\n",
        "\n",
        "* Create, add to, and access data in **sets** and **dictionaries**.\n",
        "\n",
        "### Choose structure\n",
        "\n",
        "* State advantages and disdvantages of different collection types\n",
        "* Match a dataset with an appropriate collection type\n",
        "\n",
        "### Apply computational strengths\n",
        "\n",
        "* Use the advantages of sets and dictionaries to simplify and speed up algorithms\n",
        "\n",
        "\n"
      ]
    },
    {
      "metadata": {
        "id": "pnrL70DReYm7",
        "colab_type": "text"
      },
      "cell_type": "markdown",
      "source": [
        "> **sidebar** You can safely ignore the sidebars, but if you have an extra moment, you may find them edifying."
      ]
    },
    {
      "metadata": {
        "id": "m_Cw_hsckdU2",
        "colab_type": "text"
      },
      "cell_type": "markdown",
      "source": [
        "## 1 New Skill: Colab Virtual Machines\n",
        "\n",
        "When you run a code cell in a colab notebook, Colab _gives you your own virtual machine_. To run shell commands in code cells, start with `!`.\n",
        "\n",
        "\n",
        "For example, list the contents of the root directory:"
      ]
    },
    {
      "metadata": {
        "id": "qd-Vs9wXk4qm",
        "colab_type": "code",
        "outputId": "ded99bfc-8472-4c7a-aac9-2414954edf70",
        "colab": {
          "base_uri": "https://localhost:8080/",
          "height": 99
        }
      },
      "cell_type": "code",
      "source": [
        "!ls /"
      ],
      "execution_count": 9,
      "outputs": [
        {
          "output_type": "stream",
          "text": [
            "bin\t    content  etc   lib32  mnt\troot  srv    tmp    var\n",
            "boot\t    datalab  home  lib64  opt\trun   swift  tools\n",
            "colabtools  dev      lib   media  proc\tsbin  sys    usr\n"
          ],
          "name": "stdout"
        }
      ]
    },
    {
      "metadata": {
        "id": "x1uRyESlD0E6",
        "colab_type": "code",
        "colab": {
          "base_uri": "https://localhost:8080/",
          "height": 65
        },
        "outputId": "884ff3b1-e87a-48f9-bef4-bf92c3dadc09"
      },
      "cell_type": "code",
      "source": [
        "!ls/"
      ],
      "execution_count": 1,
      "outputs": [
        {
          "output_type": "stream",
          "text": [
            "/bin/bash: ls/: No such file or directory\n"
          ],
          "name": "stdout"
        }
      ]
    },
    {
      "metadata": {
        "id": "T1HItfIAl0m3",
        "colab_type": "text"
      },
      "cell_type": "markdown",
      "source": [
        "Run the following cell. It will download the contents of the book \"Pride and Prejudice\" by Jane Austin, and put in in a text tile \"pp.txt\" in the current working directory on your own personal virtual machine."
      ]
    },
    {
      "metadata": {
        "id": "o2dUUadhlFd3",
        "colab_type": "code",
        "outputId": "6a64f336-2dff-4a59-d839-a236bb20ed70",
        "colab": {
          "base_uri": "https://localhost:8080/",
          "height": 235
        }
      },
      "cell_type": "code",
      "source": [
        "!wget https://www.gutenberg.org/files/1342/1342.txt -O pp.txt"
      ],
      "execution_count": 10,
      "outputs": [
        {
          "output_type": "stream",
          "text": [
            "--2019-01-15 20:11:18--  https://www.gutenberg.org/files/1342/1342.txt\n",
            "Resolving www.gutenberg.org (www.gutenberg.org)... 152.19.134.47, 2610:28:3090:3000:0:bad:cafe:47\n",
            "Connecting to www.gutenberg.org (www.gutenberg.org)|152.19.134.47|:443... connected.\n",
            "HTTP request sent, awaiting response... 200 OK\n",
            "Length: 717602 (701K) [text/plain]\n",
            "Saving to: ‘pp.txt’\n",
            "\n",
            "pp.txt              100%[===================>] 700.78K   656KB/s    in 1.1s    \n",
            "\n",
            "2019-01-15 20:11:19 (656 KB/s) - ‘pp.txt’ saved [717602/717602]\n",
            "\n"
          ],
          "name": "stdout"
        }
      ]
    },
    {
      "metadata": {
        "id": "tneBXLnvwxDF",
        "colab_type": "code",
        "outputId": "9e065c7b-1ffe-48fe-f10e-a6613a8d0264",
        "colab": {
          "base_uri": "https://localhost:8080/",
          "height": 65
        }
      },
      "cell_type": "code",
      "source": [
        "! pwd"
      ],
      "execution_count": 11,
      "outputs": [
        {
          "output_type": "stream",
          "text": [
            "/content\n"
          ],
          "name": "stdout"
        }
      ]
    },
    {
      "metadata": {
        "id": "D-nqmxpBESuK",
        "colab_type": "code",
        "colab": {
          "base_uri": "https://localhost:8080/",
          "height": 65
        },
        "outputId": "fe27661d-a55b-4787-b897-4cd462c75ad0"
      },
      "cell_type": "code",
      "source": [
        "! head pp.txt"
      ],
      "execution_count": 2,
      "outputs": [
        {
          "output_type": "stream",
          "text": [
            "head: cannot open 'pp.txt' for reading: No such file or directory\n"
          ],
          "name": "stdout"
        }
      ]
    },
    {
      "metadata": {
        "id": "SSCZBZiXoid5",
        "colab_type": "text"
      },
      "cell_type": "markdown",
      "source": [
        "## 2 Sets\n",
        "\n",
        "A **set** is very similar to a list. A set literal is like a list literal, with curly brackets instead of square brackets:\n"
      ]
    },
    {
      "metadata": {
        "id": "1APxXZZHpIzF",
        "colab_type": "code",
        "outputId": "f7b8ae1e-ed27-4490-92a2-5bd61695eeae",
        "colab": {
          "base_uri": "https://localhost:8080/",
          "height": 34
        }
      },
      "cell_type": "code",
      "source": [
        "#this is a set\n",
        "a_set = {1, 2, 'a', 'b', 12.5}\n",
        "a_set"
      ],
      "execution_count": 0,
      "outputs": [
        {
          "output_type": "execute_result",
          "data": {
            "text/plain": [
              "{1, 12.5, 2, 'a', 'b'}"
            ]
          },
          "metadata": {
            "tags": []
          },
          "execution_count": 5
        }
      ]
    },
    {
      "metadata": {
        "id": "quIPR_QjxdRq",
        "colab_type": "text"
      },
      "cell_type": "markdown",
      "source": [
        "**note** You might think that `{}` creates an empty set, but you'd be wrong. The expression for an empty set is `set()`."
      ]
    },
    {
      "metadata": {
        "id": "pZY0ujyVpQQV",
        "colab_type": "text"
      },
      "cell_type": "markdown",
      "source": [
        "There are two main differences from lists.\n",
        "\n",
        "### 2.1 Sets are unordered\n",
        "\n",
        "This means you can't reference their elements by location."
      ]
    },
    {
      "metadata": {
        "id": "dc4fRzacplp-",
        "colab_type": "code",
        "outputId": "a9e645b4-d62a-44f9-d5fb-8b3e5d760d2b",
        "colab": {
          "base_uri": "https://localhost:8080/",
          "height": 164
        }
      },
      "cell_type": "code",
      "source": [
        "a_set[0]"
      ],
      "execution_count": 0,
      "outputs": [
        {
          "output_type": "error",
          "ename": "TypeError",
          "evalue": "ignored",
          "traceback": [
            "\u001b[0;31m---------------------------------------------------------------------------\u001b[0m",
            "\u001b[0;31mTypeError\u001b[0m                                 Traceback (most recent call last)",
            "\u001b[0;32m<ipython-input-6-e167115489d6>\u001b[0m in \u001b[0;36m<module>\u001b[0;34m()\u001b[0m\n\u001b[0;32m----> 1\u001b[0;31m \u001b[0ma_set\u001b[0m\u001b[0;34m[\u001b[0m\u001b[0;36m0\u001b[0m\u001b[0;34m]\u001b[0m\u001b[0;34m\u001b[0m\u001b[0;34m\u001b[0m\u001b[0m\n\u001b[0m",
            "\u001b[0;31mTypeError\u001b[0m: 'set' object does not support indexing"
          ]
        }
      ]
    },
    {
      "metadata": {
        "id": "OObIwOlQp1w6",
        "colab_type": "text"
      },
      "cell_type": "markdown",
      "source": [
        "### 2.2 Sets can not have duplicate items"
      ]
    },
    {
      "metadata": {
        "id": "MUKXUn79p8jL",
        "colab_type": "code",
        "outputId": "47454f9b-4f8c-41b7-d18c-41a3f52b635b",
        "colab": {
          "base_uri": "https://localhost:8080/",
          "height": 34
        }
      },
      "cell_type": "code",
      "source": [
        "{'a', 'a', 1, 2, 3, 3, 3, 3, 3, 3}"
      ],
      "execution_count": 0,
      "outputs": [
        {
          "output_type": "execute_result",
          "data": {
            "text/plain": [
              "{1, 2, 3, 'a'}"
            ]
          },
          "metadata": {
            "tags": []
          },
          "execution_count": 7
        }
      ]
    },
    {
      "metadata": {
        "id": "URb6rz-7XEWp",
        "colab_type": "code",
        "colab": {}
      },
      "cell_type": "code",
      "source": [
        ""
      ],
      "execution_count": 0,
      "outputs": []
    },
    {
      "metadata": {
        "id": "7zvhT4AvqR-t",
        "colab_type": "text"
      },
      "cell_type": "markdown",
      "source": [
        "Attempting to add a duplicate item does not cause an error, because this is a common use case for sets."
      ]
    },
    {
      "metadata": {
        "id": "fD7Ae8PEXIzn",
        "colab_type": "code",
        "colab": {}
      },
      "cell_type": "code",
      "source": [
        ""
      ],
      "execution_count": 0,
      "outputs": []
    },
    {
      "metadata": {
        "id": "3JDpJvOtwizb",
        "colab_type": "text"
      },
      "cell_type": "markdown",
      "source": [
        "**Individual coding**. Create a set with five items, and then iterate over it, printing each item."
      ]
    },
    {
      "metadata": {
        "id": "Gl4SzcY7FAUu",
        "colab_type": "code",
        "colab": {
          "base_uri": "https://localhost:8080/",
          "height": 85
        },
        "outputId": "98c6b428-aa9e-41cf-8c54-bafa6662e586"
      },
      "cell_type": "code",
      "source": [
        "aset = {1,3,4,3,5}\n",
        "for item in aset:\n",
        "  print(item)"
      ],
      "execution_count": 3,
      "outputs": [
        {
          "output_type": "stream",
          "text": [
            "1\n",
            "3\n",
            "4\n",
            "5\n"
          ],
          "name": "stdout"
        }
      ]
    },
    {
      "metadata": {
        "id": "1zgh8IJbGPdJ",
        "colab_type": "code",
        "colab": {}
      },
      "cell_type": "code",
      "source": [
        "aset = set(list(\"astringaaaa\"))\n",
        "for item in aset:\n",
        "  print(item)"
      ],
      "execution_count": 0,
      "outputs": []
    },
    {
      "metadata": {
        "id": "rdodmxn_e9iZ",
        "colab_type": "text"
      },
      "cell_type": "markdown",
      "source": [
        "> **sidebar** In the monumental work _The Principia Mathematica_, mathematicians Alfred Russell and Bertrand Russell dervied _all of mathematics_ starting _only from sets_. To derive the statement \"1+1=2\" starting from the rules of sets takes several hundred pages. "
      ]
    },
    {
      "metadata": {
        "id": "cXutE-Dzqv8D",
        "colab_type": "text"
      },
      "cell_type": "markdown",
      "source": [
        "### 2.3 Advantage of sets\n",
        "\n",
        "These constraints buy us a very useful property: **constant time membership check**.\n",
        "\n",
        "This means that as a set grows larger, the amount of time it takes to check whether or not a value is in the set does _not_ increase.\n",
        "\n",
        "> **sidebar** This magic is accomplished with a data structure called a _hash table_.\n",
        "\n",
        "**Question** How would you check if a value is a member of a set?"
      ]
    },
    {
      "metadata": {
        "id": "ejiqn2LkHB6h",
        "colab_type": "text"
      },
      "cell_type": "markdown",
      "source": [
        ""
      ]
    },
    {
      "metadata": {
        "id": "AGAH8zSfX4HX",
        "colab_type": "code",
        "colab": {}
      },
      "cell_type": "code",
      "source": [
        "#coldcall()\n"
      ],
      "execution_count": 0,
      "outputs": []
    },
    {
      "metadata": {
        "id": "cp5y-e0znNbI",
        "colab_type": "text"
      },
      "cell_type": "markdown",
      "source": [
        "**Pair coding**\n",
        "\n",
        "One way to put the contents of a file in a string is:\n",
        "\n",
        "```python\n",
        "FILENAME = \"pp.txt\"\n",
        "contents = open(FILENAME).read()\n",
        "```\n",
        "\n",
        "To create a list with all the words in a given string:\n",
        "\n",
        "```python\n",
        "words = contents.split()\n",
        "```\n",
        "\n",
        "Determine whether or not the word \"python\" occurs anywhere in the book \"Pride and Prejudice\"."
      ]
    },
    {
      "metadata": {
        "id": "wyUIR3g4INkP",
        "colab_type": "code",
        "colab": {
          "base_uri": "https://localhost:8080/",
          "height": 34
        },
        "outputId": "f32decbf-2a0b-4534-b6f3-14e7bb54f0bf"
      },
      "cell_type": "code",
      "source": [
        "FILENAME = \"pp.txt\"\n",
        "contents = open(FILENAME).read().split()\n",
        "\"PYTHON\" in contents\n",
        "len(set(contents))"
      ],
      "execution_count": 21,
      "outputs": [
        {
          "output_type": "execute_result",
          "data": {
            "text/plain": [
              "13638"
            ]
          },
          "metadata": {
            "tags": []
          },
          "execution_count": 21
        }
      ]
    },
    {
      "metadata": {
        "id": "6VQEKgiSsE_h",
        "colab_type": "text"
      },
      "cell_type": "markdown",
      "source": [
        "### 2.4 Set operations\n",
        "\n",
        "Constant-time membership check enables efficient set operations. The main set operations are:\n",
        "\n",
        "#### union\n",
        "\n",
        "The union of two sets has every member from both sets."
      ]
    },
    {
      "metadata": {
        "id": "xk1ythLds9B8",
        "colab_type": "code",
        "outputId": "7dc1d6f7-e2d3-41aa-a53d-57f963609b53",
        "colab": {
          "base_uri": "https://localhost:8080/",
          "height": 34
        }
      },
      "cell_type": "code",
      "source": [
        "a = {1,2,3,4}\n",
        "b = {3,4,5,6}\n",
        "a.union(b)"
      ],
      "execution_count": 0,
      "outputs": [
        {
          "output_type": "execute_result",
          "data": {
            "text/plain": [
              "{1, 2, 3, 4, 5, 6}"
            ]
          },
          "metadata": {
            "tags": []
          },
          "execution_count": 8
        }
      ]
    },
    {
      "metadata": {
        "id": "EGXYk8k9uyfQ",
        "colab_type": "code",
        "outputId": "de0dca26-9710-48ac-b809-4905ba24e59b",
        "colab": {
          "base_uri": "https://localhost:8080/",
          "height": 34
        }
      },
      "cell_type": "code",
      "source": [
        "# this is a shortcut\n",
        "a | b"
      ],
      "execution_count": 0,
      "outputs": [
        {
          "output_type": "execute_result",
          "data": {
            "text/plain": [
              "{1, 2, 3, 4, 5, 6}"
            ]
          },
          "metadata": {
            "tags": []
          },
          "execution_count": 9
        }
      ]
    },
    {
      "metadata": {
        "id": "clKoy9DstFNU",
        "colab_type": "text"
      },
      "cell_type": "markdown",
      "source": [
        "#### intersection\n",
        "\n",
        "The intersection of two sets has every member which is in both sets.\n",
        "\n"
      ]
    },
    {
      "metadata": {
        "id": "EoD_910LtSOB",
        "colab_type": "code",
        "outputId": "47e99f7a-0b05-40a5-a368-7de488b8cb47",
        "colab": {
          "base_uri": "https://localhost:8080/",
          "height": 34
        }
      },
      "cell_type": "code",
      "source": [
        "a.intersection(b)"
      ],
      "execution_count": 0,
      "outputs": [
        {
          "output_type": "execute_result",
          "data": {
            "text/plain": [
              "{3, 4}"
            ]
          },
          "metadata": {
            "tags": []
          },
          "execution_count": 10
        }
      ]
    },
    {
      "metadata": {
        "id": "bHK3fBKfvIeD",
        "colab_type": "code",
        "outputId": "35ec3dcc-1e40-45c8-d694-6d0e99800fb6",
        "colab": {
          "base_uri": "https://localhost:8080/",
          "height": 34
        }
      },
      "cell_type": "code",
      "source": [
        "# here's a shortcut\n",
        "a & b"
      ],
      "execution_count": 0,
      "outputs": [
        {
          "output_type": "execute_result",
          "data": {
            "text/plain": [
              "{3, 4}"
            ]
          },
          "metadata": {
            "tags": []
          },
          "execution_count": 11
        }
      ]
    },
    {
      "metadata": {
        "id": "qXqSY1LsK_EO",
        "colab_type": "code",
        "colab": {
          "base_uri": "https://localhost:8080/",
          "height": 34
        },
        "outputId": "5c446500-1df9-4c36-9215-c75b4805e509"
      },
      "cell_type": "code",
      "source": [
        "birthdays = ['a','b','c']\n",
        "students = ['c','d','e']\n",
        "\n",
        "for s in set(birthdays) & set(students):\n",
        "  print(\"happy birthday %s\"%s)"
      ],
      "execution_count": 22,
      "outputs": [
        {
          "output_type": "stream",
          "text": [
            "happy birthday c\n"
          ],
          "name": "stdout"
        }
      ]
    },
    {
      "metadata": {
        "id": "0ygoXV3_t2Ew",
        "colab_type": "text"
      },
      "cell_type": "markdown",
      "source": [
        "#### difference\n",
        "\n",
        "The difference of sets `A - B` is the every member which is in `A` but not `B`."
      ]
    },
    {
      "metadata": {
        "id": "t5pp7vLhZv6G",
        "colab_type": "code",
        "outputId": "8da5fd54-77c9-49ff-a622-318dc3c4b40c",
        "colab": {
          "base_uri": "https://localhost:8080/",
          "height": 34
        }
      },
      "cell_type": "code",
      "source": [
        "a"
      ],
      "execution_count": 0,
      "outputs": [
        {
          "output_type": "execute_result",
          "data": {
            "text/plain": [
              "{1, 2, 3, 4}"
            ]
          },
          "metadata": {
            "tags": []
          },
          "execution_count": 12
        }
      ]
    },
    {
      "metadata": {
        "id": "OFGvHA_-ZxOF",
        "colab_type": "code",
        "outputId": "8be89819-83db-4799-e168-ad9eab6f90f0",
        "colab": {
          "base_uri": "https://localhost:8080/",
          "height": 34
        }
      },
      "cell_type": "code",
      "source": [
        "b"
      ],
      "execution_count": 0,
      "outputs": [
        {
          "output_type": "execute_result",
          "data": {
            "text/plain": [
              "{3, 4, 5, 6}"
            ]
          },
          "metadata": {
            "tags": []
          },
          "execution_count": 13
        }
      ]
    },
    {
      "metadata": {
        "id": "Qon8xsp9t9u7",
        "colab_type": "code",
        "outputId": "18ef0dc5-842d-4e5d-dd2e-790bfd9be642",
        "colab": {
          "base_uri": "https://localhost:8080/",
          "height": 34
        }
      },
      "cell_type": "code",
      "source": [
        "a.difference(b)"
      ],
      "execution_count": 0,
      "outputs": [
        {
          "output_type": "execute_result",
          "data": {
            "text/plain": [
              "{1, 2}"
            ]
          },
          "metadata": {
            "tags": []
          },
          "execution_count": 14
        }
      ]
    },
    {
      "metadata": {
        "id": "Sb6WEHieukmc",
        "colab_type": "code",
        "outputId": "252e0bde-9cc1-4d9d-b2a3-6eb1f8cd65e9",
        "colab": {
          "base_uri": "https://localhost:8080/",
          "height": 34
        }
      },
      "cell_type": "code",
      "source": [
        "# here's a shortcut\n",
        "a - b"
      ],
      "execution_count": 0,
      "outputs": [
        {
          "output_type": "execute_result",
          "data": {
            "text/plain": [
              "{1, 2}"
            ]
          },
          "metadata": {
            "tags": []
          },
          "execution_count": 15
        }
      ]
    },
    {
      "metadata": {
        "id": "OErHOwXauaFA",
        "colab_type": "text"
      },
      "cell_type": "markdown",
      "source": [
        "**Question** \n",
        "* Is `a & b` the same as `b & a`? \n",
        "* Is `a - b` the same as `b - a`?"
      ]
    },
    {
      "metadata": {
        "id": "g4RrnueHZ7vy",
        "colab_type": "code",
        "colab": {}
      },
      "cell_type": "code",
      "source": [
        "#coldcall()"
      ],
      "execution_count": 0,
      "outputs": []
    },
    {
      "metadata": {
        "id": "Cf-DTREPvkPV",
        "colab_type": "text"
      },
      "cell_type": "markdown",
      "source": [
        "**Small teams**\n",
        "\n",
        "Start a code cell with the contents:\n",
        "\n",
        "```python\n",
        "a = {1,2,3,4}\n",
        "b = {3,4,5,6}\n",
        "```\n",
        "\n",
        "Find the set of all items that are not in both sets."
      ]
    },
    {
      "metadata": {
        "id": "nyr3QZVJL19S",
        "colab_type": "code",
        "colab": {
          "base_uri": "https://localhost:8080/",
          "height": 34
        },
        "outputId": "8ecca2bd-8425-444f-c694-f4991a8934c5"
      },
      "cell_type": "code",
      "source": [
        "a = {1,2,3,4}\n",
        "b = {3,4,5,6}\n",
        "\n",
        "#(a|b) - (a&b)\n",
        "a^b"
      ],
      "execution_count": 26,
      "outputs": [
        {
          "output_type": "execute_result",
          "data": {
            "text/plain": [
              "{1, 2, 5, 6}"
            ]
          },
          "metadata": {
            "tags": []
          },
          "execution_count": 26
        }
      ]
    },
    {
      "metadata": {
        "id": "U6eN9vCOaU73",
        "colab_type": "code",
        "outputId": "ee67322b-5104-4e51-e448-344d45924d4f",
        "colab": {
          "base_uri": "https://localhost:8080/",
          "height": 34
        }
      },
      "cell_type": "code",
      "source": [
        "#brandon\n",
        "a = {1,2,3,4}\n",
        "b = {3,4,5,6}\n",
        "\n",
        "(a|b) - (a&b)\n"
      ],
      "execution_count": 0,
      "outputs": [
        {
          "output_type": "execute_result",
          "data": {
            "text/plain": [
              "{1, 2, 5, 6}"
            ]
          },
          "metadata": {
            "tags": []
          },
          "execution_count": 17
        }
      ]
    },
    {
      "metadata": {
        "id": "M5P3gHllrkpE",
        "colab_type": "text"
      },
      "cell_type": "markdown",
      "source": [
        "(Trivia: this is known as the **symmetric difference**, and actually has its own operator in python:)"
      ]
    },
    {
      "metadata": {
        "id": "rLS5Cqzer5sv",
        "colab_type": "code",
        "outputId": "0c76149b-aab1-447e-b4c1-582c08df9618",
        "colab": {
          "base_uri": "https://localhost:8080/",
          "height": 34
        }
      },
      "cell_type": "code",
      "source": [
        "a ^ b"
      ],
      "execution_count": 0,
      "outputs": [
        {
          "output_type": "execute_result",
          "data": {
            "text/plain": [
              "{1, 2, 5, 6}"
            ]
          },
          "metadata": {
            "tags": []
          },
          "execution_count": 19
        }
      ]
    },
    {
      "metadata": {
        "id": "_AShetCkw20I",
        "colab_type": "text"
      },
      "cell_type": "markdown",
      "source": [
        "#### Exercise: The Total Union\n",
        "\n",
        "Write a function that computes the total union of a list of sets.\n",
        "\n",
        "```python\n",
        ">>> total_union([{1, 2}, {2, 3}, {3, 4}])\n",
        "{1, 2, 3, 4}\n",
        ">>> total_union([{1, 2, 3, 4}, {1, 2, 3}, {1, 2}])\n",
        "{1, 2, 3, 4}\n",
        "```\n",
        "\n"
      ]
    },
    {
      "metadata": {
        "id": "gKd28a-mw_6F",
        "colab_type": "text"
      },
      "cell_type": "markdown",
      "source": [
        "#### Exercise: The Total Intersection\n",
        "\n",
        "Write a function that computes the total intersection of a list of sets.\n",
        "\n",
        "```python\n",
        ">>> total_intersection([{1, 2}, {2, 3}, {3, 4}])\n",
        "{}\n",
        ">>> total_intersection([{1, 2, 3, 4}, {1, 2, 3}, {1, 2}])\n",
        "{1, 2}\n",
        "```"
      ]
    },
    {
      "metadata": {
        "id": "vW7BdVNJy1VY",
        "colab_type": "text"
      },
      "cell_type": "markdown",
      "source": [
        "### 2.5 Building a set incrementally with `add`.\n",
        "\n",
        "  - The `.add` method and the builder pattern.\n",
        "  - Yup, this means sets are mutable.\n",
        "\n"
      ]
    },
    {
      "metadata": {
        "id": "EQqLKO36y3yL",
        "colab_type": "text"
      },
      "cell_type": "markdown",
      "source": [
        "#### Exercise: List to Set\n",
        "Write a function `list_to_set` that converts a list into a set\n",
        "\n",
        "```python\n",
        ">>> list_to_set([1, 2, 3, 4])\n",
        "{1, 2, 3, 4}\n",
        ">>> list_to_set([])\n",
        "set([])\n",
        "```"
      ]
    },
    {
      "metadata": {
        "id": "NTlI4qh0y6lO",
        "colab_type": "text"
      },
      "cell_type": "markdown",
      "source": [
        "#### Exercise: The Set of Primes\n",
        "\n",
        "Write a function that takes as argument a positive integer `n`, and returns the set of prime numbers less than or equal to `n`.\n",
        "\n",
        "```python\n",
        ">>> primes(10)\n",
        "{2, 3, 5, 7}\n",
        ">>> primes(100)\n",
        "{2, 3, 5, 7, 11, 13, 17, 19, 23, 29, 31, 37, 41, 43, 47, 53, 59, 61, 67, 71, 73, 79, 83, 89, 97}\n",
        "```\n",
        "\n",
        "**hint** If you use sets in the algorithm, the implementation can be as short as four lines."
      ]
    },
    {
      "metadata": {
        "id": "JfiWcUS_NuZ6",
        "colab_type": "code",
        "colab": {
          "base_uri": "https://localhost:8080/",
          "height": 164
        },
        "outputId": "be357487-ec73-450c-c528-41604438fd44"
      },
      "cell_type": "code",
      "source": [
        "primes(700)"
      ],
      "execution_count": 27,
      "outputs": [
        {
          "output_type": "error",
          "ename": "NameError",
          "evalue": "ignored",
          "traceback": [
            "\u001b[0;31m---------------------------------------------------------------------------\u001b[0m",
            "\u001b[0;31mNameError\u001b[0m                                 Traceback (most recent call last)",
            "\u001b[0;32m<ipython-input-27-6e4dcf48a23d>\u001b[0m in \u001b[0;36m<module>\u001b[0;34m()\u001b[0m\n\u001b[0;32m----> 1\u001b[0;31m \u001b[0mprimes\u001b[0m\u001b[0;34m(\u001b[0m\u001b[0;36m700\u001b[0m\u001b[0;34m)\u001b[0m\u001b[0;34m\u001b[0m\u001b[0;34m\u001b[0m\u001b[0m\n\u001b[0m",
            "\u001b[0;31mNameError\u001b[0m: name 'primes' is not defined"
          ]
        }
      ]
    },
    {
      "metadata": {
        "id": "qtIAG_BloAlF",
        "colab_type": "text"
      },
      "cell_type": "markdown",
      "source": [
        "\n",
        "### 2.6 The `in` operator.\n",
        "\n",
        "  - Efficiency of the `in` operator for lists vs. sets.\n",
        "  - Reading in a file.\n",
        "  - Checking whether a word is in a book, list vs. set.\n",
        "  \n",
        "**Question, for pairs** \n",
        "* What kind of data would you want to typically represent with a set? \n",
        "* When would it be appropriate to convert a list to a set?\n",
        "\n"
      ]
    },
    {
      "metadata": {
        "id": "Tjdjkk77eKRw",
        "colab_type": "code",
        "colab": {}
      },
      "cell_type": "code",
      "source": [
        "#coldcall()\n"
      ],
      "execution_count": 0,
      "outputs": []
    },
    {
      "metadata": {
        "id": "oY0Q0KDDeG6P",
        "colab_type": "code",
        "colab": {}
      },
      "cell_type": "code",
      "source": [
        ""
      ],
      "execution_count": 0,
      "outputs": []
    },
    {
      "metadata": {
        "id": "ke5lYfgQ3L3O",
        "colab_type": "text"
      },
      "cell_type": "markdown",
      "source": [
        "## 3 Dictionaries\n",
        "\n",
        "#### Exercise: List of Tuples\n",
        "\n",
        "Consider the case of lists-of-tuples.  Here's an example where the first element of each tuple is a post-punk band, and the second element of each tuple is an important album they recorded\n",
        "\n",
        "```python\n",
        "post_punk_albums = [\n",
        "    (\"Wire\", \"Pink Flag\"),\n",
        "    (\"Gang of Four\", \"Entertainment!\"),\n",
        "    (\"Joy Division\", \"Unknown Pleasures\"),\n",
        "    (\"Pere Ubu\", \"Dub Housing\"),\n",
        "    (\"Public Image Ltd\", \"First Issue\")\n",
        "]\n",
        "```"
      ]
    },
    {
      "metadata": {
        "id": "uHr45r5c3emX",
        "colab_type": "text"
      },
      "cell_type": "markdown",
      "source": [
        "We can think of a data structure like this as a *mapping* from bands to albums.  \n",
        "* We will refer to the first element of such a tuple as a **key** and \n",
        "* the second as a **value**.\n",
        "\n",
        "**pair coding** Write a function that consumes a list of two-tuples and the value of a key, and returns the value stored in the tuple with that key.  For example\n",
        "\n",
        "```\n",
        "$ lookup_by_key(post_punk_albums, \"Pere Ubu\")\n",
        "\"Dub Housing\"\n",
        "```"
      ]
    },
    {
      "metadata": {
        "id": "CB-FZ-qXh_9o",
        "colab_type": "code",
        "colab": {
          "base_uri": "https://localhost:8080/",
          "height": 34
        },
        "outputId": "686c5a8c-505a-4831-9764-dccdd83a9f81"
      },
      "cell_type": "code",
      "source": [
        "#brandon and brandon\n",
        "\n",
        "post_punk_albums = [\n",
        "    (\"Wire\", \"Pink Flag\"),\n",
        "    (\"Gang of Four\", \"Entertainment!\"),\n",
        "    (\"Joy Division\", \"Unknown Pleasures\"),\n",
        "    (\"Pere Ubu\", \"Dub Housing\"),\n",
        "    (\"Public Image Ltd\", \"First Issue\")\n",
        "]\n",
        "\n",
        "def lookup_by_key(album_info, band):\n",
        "  #implementation\n",
        "  #for pair in album_info:\n",
        "    #if pair[0] == band:\n",
        "      #return pair[1]\n",
        "  \n",
        "  #another way\n",
        "  for aband, analbum in album_info:\n",
        "    if aband == band:\n",
        "      return analbum\n",
        "\n",
        "lookup_by_key( post_punk_albums, \"Pere Ubu\" )"
      ],
      "execution_count": 37,
      "outputs": [
        {
          "output_type": "execute_result",
          "data": {
            "text/plain": [
              "'Dub Housing'"
            ]
          },
          "metadata": {
            "tags": []
          },
          "execution_count": 37
        }
      ]
    },
    {
      "metadata": {
        "id": "Jy6jVatn32_1",
        "colab_type": "text"
      },
      "cell_type": "markdown",
      "source": [
        "Dictionaries encode this kind of data - where there is a one-to-one **association** between one set (e.g, post-punk bands) and another set (e.g., their most important album).\n",
        "\n",
        "> **sidebar** In mathematics, a one-to-one mapping between two sets is called a _bijection_.\n",
        "\n",
        "### 3.1 Definition\n",
        "\n",
        "* Like a set, a series of items between curly braces.\n",
        "* Each item, however, is a pair of values separated by a colon:"
      ]
    },
    {
      "metadata": {
        "id": "EF27dkDJ5Z3z",
        "colab_type": "code",
        "colab": {}
      },
      "cell_type": "code",
      "source": [
        "post_punk_albums = {\n",
        "    \"Wire\": \"Pink Flag\",\n",
        "    \"Gang of Four\": \"Entertainment!\",\n",
        "    \"Joy Division\": \"Unknown Pleasures\",\n",
        "    \"Pere Ubu\": \"Dub Housing\",\n",
        "    \"Public Image Ltd\": \"First Issue\"\n",
        "}"
      ],
      "execution_count": 0,
      "outputs": []
    },
    {
      "metadata": {
        "id": "oEP52RWmkmlk",
        "colab_type": "code",
        "outputId": "6ee00a5f-c87d-440c-ccd0-b79ac0227ece",
        "colab": {
          "base_uri": "https://localhost:8080/",
          "height": 34
        }
      },
      "cell_type": "code",
      "source": [
        "post_punk_albums[\"Pere Ubu\"]"
      ],
      "execution_count": 0,
      "outputs": [
        {
          "output_type": "execute_result",
          "data": {
            "text/plain": [
              "'Dub Housing'"
            ]
          },
          "metadata": {
            "tags": []
          },
          "execution_count": 22
        }
      ]
    },
    {
      "metadata": {
        "id": "G0OLR1fMRNv4",
        "colab_type": "code",
        "colab": {}
      },
      "cell_type": "code",
      "source": [
        "a_strange = {0: 'foo', 1:'bar',2:'bart'}\n",
        "b_strange = [1,]"
      ],
      "execution_count": 0,
      "outputs": []
    },
    {
      "metadata": {
        "id": "uGLMwkaW5okC",
        "colab_type": "text"
      },
      "cell_type": "markdown",
      "source": [
        "### 3.2 Indexing into a Dictionary\n",
        "\n",
        "Dictionary items are accessed like list items, but with _keys_ instead of _indexes_."
      ]
    },
    {
      "metadata": {
        "id": "nr7_qiK25n2O",
        "colab_type": "code",
        "outputId": "2055ebf9-7459-4c46-fc76-41131f62478a",
        "colab": {
          "base_uri": "https://localhost:8080/",
          "height": 34
        }
      },
      "cell_type": "code",
      "source": [
        "post_punk_albums[ \"Joy Division\" ]"
      ],
      "execution_count": 0,
      "outputs": [
        {
          "output_type": "execute_result",
          "data": {
            "text/plain": [
              "'Unknown Pleasures'"
            ]
          },
          "metadata": {
            "tags": []
          },
          "execution_count": 23
        }
      ]
    },
    {
      "metadata": {
        "id": "EZVtzpuB5_R9",
        "colab_type": "text"
      },
      "cell_type": "markdown",
      "source": [
        "#### Pair coding: A Negative Dictionary\n",
        "Write a function `negative_lookup` that takes a dictionary and an integer as arguments, and looks up the value stored under the *negative* of that integer.\n",
        "\n",
        "```\n",
        "$ negative_lookup({1: 'one', -1: 'negative one'}, 1}\n",
        "\"negative one\"\n",
        "```"
      ]
    },
    {
      "metadata": {
        "id": "cvBsHXo66ZKx",
        "colab_type": "text"
      },
      "cell_type": "markdown",
      "source": [
        "\n",
        "### Efficiency of dictionaries vs. lists of tuples.\n",
        "\n",
        "**Question to the classroom**"
      ]
    },
    {
      "metadata": {
        "id": "jeXRlii3Rx8F",
        "colab_type": "text"
      },
      "cell_type": "markdown",
      "source": [
        "Dictionary is faster beacuse it goes to the matching keys and returns the value\n",
        "Lists of tuples: literates by every items in the list"
      ]
    },
    {
      "metadata": {
        "id": "Ss1B0cTZ6nod",
        "colab_type": "text"
      },
      "cell_type": "markdown",
      "source": [
        "### 3.3 The `.get` Method\n",
        "\n",
        "Attrempting to access an item that isn't in a list causes an error."
      ]
    },
    {
      "metadata": {
        "id": "rUGj6ZZISFTr",
        "colab_type": "code",
        "colab": {}
      },
      "cell_type": "code",
      "source": [
        ""
      ],
      "execution_count": 0,
      "outputs": []
    },
    {
      "metadata": {
        "id": "7jnqZbVe67tC",
        "colab_type": "code",
        "outputId": "a98ed6ed-c1e2-44c5-d4b0-641943b81649",
        "colab": {
          "base_uri": "https://localhost:8080/",
          "height": 181
        }
      },
      "cell_type": "code",
      "source": [
        "a_dict = {'foo':'bar', 'biz':'baz'}\n",
        "a_dict[ \"🤡\" ]"
      ],
      "execution_count": 0,
      "outputs": [
        {
          "output_type": "error",
          "ename": "KeyError",
          "evalue": "ignored",
          "traceback": [
            "\u001b[0;31m---------------------------------------------------------------------------\u001b[0m",
            "\u001b[0;31mKeyError\u001b[0m                                  Traceback (most recent call last)",
            "\u001b[0;32m<ipython-input-24-1dc1cef690c5>\u001b[0m in \u001b[0;36m<module>\u001b[0;34m()\u001b[0m\n\u001b[1;32m      1\u001b[0m \u001b[0ma_dict\u001b[0m \u001b[0;34m=\u001b[0m \u001b[0;34m{\u001b[0m\u001b[0;34m'foo'\u001b[0m\u001b[0;34m:\u001b[0m\u001b[0;34m'bar'\u001b[0m\u001b[0;34m,\u001b[0m \u001b[0;34m'biz'\u001b[0m\u001b[0;34m:\u001b[0m\u001b[0;34m'baz'\u001b[0m\u001b[0;34m}\u001b[0m\u001b[0;34m\u001b[0m\u001b[0;34m\u001b[0m\u001b[0m\n\u001b[0;32m----> 2\u001b[0;31m \u001b[0ma_dict\u001b[0m\u001b[0;34m[\u001b[0m \u001b[0;34m\"🤡\"\u001b[0m \u001b[0;34m]\u001b[0m\u001b[0;34m\u001b[0m\u001b[0;34m\u001b[0m\u001b[0m\n\u001b[0m",
            "\u001b[0;31mKeyError\u001b[0m: '🤡'"
          ]
        }
      ]
    },
    {
      "metadata": {
        "id": "TYINEsXp7Mij",
        "colab_type": "text"
      },
      "cell_type": "markdown",
      "source": [
        "If you would like a dict access to fail gracefully, use `.get`."
      ]
    },
    {
      "metadata": {
        "id": "rshC--_Y7RRK",
        "colab_type": "code",
        "outputId": "61d12d9d-a1ed-4864-a33c-598758ea65c8",
        "colab": {
          "base_uri": "https://localhost:8080/",
          "height": 34
        }
      },
      "cell_type": "code",
      "source": [
        "print( a_dict.get(\"something_that_isn't_there\") )"
      ],
      "execution_count": 0,
      "outputs": [
        {
          "output_type": "stream",
          "text": [
            "None\n"
          ],
          "name": "stdout"
        }
      ]
    },
    {
      "metadata": {
        "id": "0ihBKYhPn19L",
        "colab_type": "code",
        "outputId": "e05a2574-48b1-48a3-a951-96df88a12694",
        "colab": {
          "base_uri": "https://localhost:8080/",
          "height": 34
        }
      },
      "cell_type": "code",
      "source": [
        "dict = {'a':3, 'b':7}\n",
        "print(dict.get('c'))"
      ],
      "execution_count": 0,
      "outputs": [
        {
          "output_type": "stream",
          "text": [
            "None\n"
          ],
          "name": "stdout"
        }
      ]
    },
    {
      "metadata": {
        "id": "mYnPzE4oSRv6",
        "colab_type": "text"
      },
      "cell_type": "markdown",
      "source": [
        ".get useful if the item not in the list and not throw out an error\n"
      ]
    },
    {
      "metadata": {
        "id": "hmnye_UX7_Go",
        "colab_type": "text"
      },
      "cell_type": "markdown",
      "source": [
        "### 3.4 The `in` operator\n",
        "\n",
        "The `in` operator tests if a value is in the set of a dictionary's _keys_."
      ]
    },
    {
      "metadata": {
        "id": "jpC_oets8QcF",
        "colab_type": "code",
        "outputId": "fd10202d-4981-473c-9659-cde087d88ba7",
        "colab": {
          "base_uri": "https://localhost:8080/",
          "height": 51
        }
      },
      "cell_type": "code",
      "source": [
        "a_dict = {'biz':'baz', 'foo':'bar'}\n",
        "print( \"biz\" in a_dict )\n",
        "print( \"baz\" in a_dict )"
      ],
      "execution_count": 0,
      "outputs": [
        {
          "output_type": "stream",
          "text": [
            "True\n",
            "False\n"
          ],
          "name": "stdout"
        }
      ]
    },
    {
      "metadata": {
        "id": "I3dqzBx2SchL",
        "colab_type": "text"
      },
      "cell_type": "markdown",
      "source": [
        "in is only used to find keys, not values\n"
      ]
    },
    {
      "metadata": {
        "id": "iLkfFmnw8v-U",
        "colab_type": "text"
      },
      "cell_type": "markdown",
      "source": [
        "#### Pair coding: Positive or Negative Lookup\n",
        "Write a function `positive_or_negative_lookup` that takes a dictionary and an integer as arguments.  If the integer is a key in the dictionary, return the value stored under that key.  Otherwise, if the negative of the integer is a key in the dictionary, return the value stored under the negative of the key.  If both of these fail, return `False`.\n",
        "\n",
        "```\n",
        "$ positive_or_negative_lookup({1: 'one', -2: 'negative two'}, 1)\n",
        "\"one\"\n",
        "$ positive_or_negative_lookup({1: 'one', -2: 'negative two'}, 2)\n",
        "\"negative two\"\n",
        "$ positive_or_negative_lookup({1: 'one', -2: 'negative two'}, 3)\n",
        "False\n",
        "```"
      ]
    },
    {
      "metadata": {
        "id": "eo5YuXYRSxHa",
        "colab_type": "code",
        "colab": {
          "base_uri": "https://localhost:8080/",
          "height": 51
        },
        "outputId": "8a1a629f-cc74-4259-b6a0-3d23bcd0ff39"
      },
      "cell_type": "code",
      "source": [
        "def postitive_or_negative_lookup(dictionary, integers):\n",
        "  if integers in dictionary:\n",
        "    return dictionary[integers]\n",
        "  elif -integers in dictionary:\n",
        "    return dictionary[-integers]\n",
        "  else:\n",
        "    return False\n",
        "print(postitive_or_negative_lookup({1: 'one', -2: 'negative two'}, 1))\n",
        "print(postitive_or_negative_lookup({1: 'one', -2: 'negative two'}, 2))"
      ],
      "execution_count": 56,
      "outputs": [
        {
          "output_type": "stream",
          "text": [
            "one\n",
            "negative two\n"
          ],
          "name": "stdout"
        }
      ]
    },
    {
      "metadata": {
        "id": "efWdqaD4gnAk",
        "colab_type": "code",
        "colab": {}
      },
      "cell_type": "code",
      "source": [
        "def postitive_or_negative_lookup(dictionary, integers):\n",
        "    if integers in dictionary:\n",
        "      return dictionary[integers]\n",
        "    elif -integers in dictionary:\n",
        "      return dictionary[-integers]\n",
        "    else:\n",
        "      return False"
      ],
      "execution_count": 0,
      "outputs": []
    },
    {
      "metadata": {
        "id": "w33dHdsgWCVF",
        "colab_type": "code",
        "colab": {
          "base_uri": "https://localhost:8080/",
          "height": 51
        },
        "outputId": "f21df55e-c254-4ee5-8936-56ac1cb48b70"
      },
      "cell_type": "code",
      "source": [
        "def postitive_or_negative_lookup(dictionary, integers):\n",
        "  return dictionary.get(integers) or dictionary.get(-integers) or False\n",
        "\n",
        "print(postitive_or_negative_lookup({1: 'one', -2: 'negative two'}, 1))\n",
        "print(postitive_or_negative_lookup({1: 'one', -2: 'negative two'}, 2))"
      ],
      "execution_count": 54,
      "outputs": [
        {
          "output_type": "stream",
          "text": [
            "one\n",
            "negative two\n"
          ],
          "name": "stdout"
        }
      ]
    },
    {
      "metadata": {
        "id": "Rlv_CJELVRLq",
        "colab_type": "code",
        "colab": {}
      },
      "cell_type": "code",
      "source": [
        "adict = {1: 'one', -2: 'negative two'}\n"
      ],
      "execution_count": 0,
      "outputs": []
    },
    {
      "metadata": {
        "id": "ObyRV_vwV6B7",
        "colab_type": "text"
      },
      "cell_type": "markdown",
      "source": [
        ""
      ]
    },
    {
      "metadata": {
        "id": "CsjnqJChVynB",
        "colab_type": "code",
        "colab": {
          "base_uri": "https://localhost:8080/",
          "height": 34
        },
        "outputId": "4b7c3d26-4877-42bb-fe9d-5f781a1be08b"
      },
      "cell_type": "code",
      "source": [
        "key = 1\n",
        "adict.get(1) or adict.get(-1) or False"
      ],
      "execution_count": 63,
      "outputs": [
        {
          "output_type": "execute_result",
          "data": {
            "text/plain": [
              "'one'"
            ]
          },
          "metadata": {
            "tags": []
          },
          "execution_count": 63
        }
      ]
    },
    {
      "metadata": {
        "id": "8Fwcm3jk86TQ",
        "colab_type": "text"
      },
      "cell_type": "markdown",
      "source": [
        "### 3.5 Building a Dictionary Incrementally\n",
        "\n",
        "  - Creating empty dictionaries"
      ]
    },
    {
      "metadata": {
        "id": "N7xYSCX58935",
        "colab_type": "code",
        "outputId": "14db8d31-c866-4256-affc-9203f9a22be5",
        "colab": {
          "base_uri": "https://localhost:8080/",
          "height": 34
        }
      },
      "cell_type": "code",
      "source": [
        "empty_dict = {}\n",
        "print( empty_dict )"
      ],
      "execution_count": 64,
      "outputs": [
        {
          "output_type": "stream",
          "text": [
            "{}\n"
          ],
          "name": "stdout"
        }
      ]
    },
    {
      "metadata": {
        "id": "vGu-g5yt9Gk8",
        "colab_type": "text"
      },
      "cell_type": "markdown",
      "source": [
        "  - Building a dictionary incrementally"
      ]
    },
    {
      "metadata": {
        "id": "C1shHnj-9Hd7",
        "colab_type": "code",
        "outputId": "17dac216-e2ae-45c9-9e69-57e1e96b15d8",
        "colab": {
          "base_uri": "https://localhost:8080/",
          "height": 34
        }
      },
      "cell_type": "code",
      "source": [
        "a = {}\n",
        "for i in range(5):\n",
        "  a[i] = str(i)*3\n",
        "a"
      ],
      "execution_count": 60,
      "outputs": [
        {
          "output_type": "execute_result",
          "data": {
            "text/plain": [
              "{0: '000', 1: '111', 2: '222', 3: '333', 4: '444'}"
            ]
          },
          "metadata": {
            "tags": []
          },
          "execution_count": 60
        }
      ]
    },
    {
      "metadata": {
        "id": "nxbWY1n7oNzL",
        "colab_type": "code",
        "colab": {}
      },
      "cell_type": "code",
      "source": [
        ""
      ],
      "execution_count": 0,
      "outputs": []
    },
    {
      "metadata": {
        "id": "0moKnu-k9Sh2",
        "colab_type": "text"
      },
      "cell_type": "markdown",
      "source": [
        "#### Individual coding: Alphabet Dictionary\n",
        "Create a dictionary whose keys are letters in the alphabet, and whose values are their *position* within the alphabet."
      ]
    },
    {
      "metadata": {
        "id": "dJae8tKKoV8k",
        "colab_type": "code",
        "colab": {
          "base_uri": "https://localhost:8080/",
          "height": 459
        },
        "outputId": "2c752700-03d2-4390-c886-b2f5261c4100"
      },
      "cell_type": "code",
      "source": [
        "from string import ascii_lowercase\n",
        "\n",
        "\n",
        "#def reference(letters):\n",
        "  #empty = ascii_lowercase\n",
        "  #return empty\n",
        "dict(zip(ascii_lowercase, range(len(ascii_lowercase))))\n",
        "\n",
        "#a_diction = {'a':1, 'b':2, 'c':3}\n",
        "#def reference(letters, position)\n",
        "  #for index, value in enumerate(letters, position):\n",
        "    #if \n",
        "  \n",
        "  "
      ],
      "execution_count": 73,
      "outputs": [
        {
          "output_type": "execute_result",
          "data": {
            "text/plain": [
              "{'a': 0,\n",
              " 'b': 1,\n",
              " 'c': 2,\n",
              " 'd': 3,\n",
              " 'e': 4,\n",
              " 'f': 5,\n",
              " 'g': 6,\n",
              " 'h': 7,\n",
              " 'i': 8,\n",
              " 'j': 9,\n",
              " 'k': 10,\n",
              " 'l': 11,\n",
              " 'm': 12,\n",
              " 'n': 13,\n",
              " 'o': 14,\n",
              " 'p': 15,\n",
              " 'q': 16,\n",
              " 'r': 17,\n",
              " 's': 18,\n",
              " 't': 19,\n",
              " 'u': 20,\n",
              " 'v': 21,\n",
              " 'w': 22,\n",
              " 'x': 23,\n",
              " 'y': 24,\n",
              " 'z': 25}"
            ]
          },
          "metadata": {
            "tags": []
          },
          "execution_count": 73
        }
      ]
    },
    {
      "metadata": {
        "id": "PWj55v8V9ZiZ",
        "colab_type": "text"
      },
      "cell_type": "markdown",
      "source": [
        "#### Pair coding: Dictionary Reversal\n",
        "Write a function `reverse_dictionary` that swaps the roles of keys and values in a dictionary.\n",
        "\n",
        "```python\n",
        "$ reverse_dictionary({'a': 1, 'b': 2, 'c': 3})\n",
        "{1: 'a', 2: 'b', 3: 'c'}\n",
        "```"
      ]
    },
    {
      "metadata": {
        "id": "ILwLht6G0efl",
        "colab_type": "code",
        "colab": {}
      },
      "cell_type": "code",
      "source": [
        "def reverse_dictionary(number):\n",
        "  result = {}\n",
        "  for index, value in number.items():\n",
        "    result[value] = index\n",
        "  return result\n",
        "    "
      ],
      "execution_count": 0,
      "outputs": []
    },
    {
      "metadata": {
        "id": "MARcau_BuuHh",
        "colab_type": "code",
        "colab": {}
      },
      "cell_type": "code",
      "source": [
        "def reverse_dictionary(adict):\n",
        "  return dict([(v,k) for k, v in adict.items()])\n"
      ],
      "execution_count": 0,
      "outputs": []
    },
    {
      "metadata": {
        "id": "-mBQYmkdvajP",
        "colab_type": "code",
        "colab": {}
      },
      "cell_type": "code",
      "source": [
        "return {v:k for k, v in adict.items()}"
      ],
      "execution_count": 0,
      "outputs": []
    },
    {
      "metadata": {
        "id": "q-MQlEKjtUE6",
        "colab_type": "code",
        "colab": {
          "base_uri": "https://localhost:8080/",
          "height": 68
        },
        "outputId": "9ae69319-b2c4-4af2-fa2a-cdf5dca3bb8c"
      },
      "cell_type": "code",
      "source": [
        "reverse_dictionary({'a': 1, 'b': 2, 'c': 3})"
      ],
      "execution_count": 84,
      "outputs": [
        {
          "output_type": "stream",
          "text": [
            "a 1\n",
            "b 2\n",
            "c 3\n"
          ],
          "name": "stdout"
        }
      ]
    },
    {
      "metadata": {
        "id": "evrazVlP-Cf_",
        "colab_type": "text"
      },
      "cell_type": "markdown",
      "source": [
        "\n",
        "### 3.6 Restrictions on Dictionary Keys\n",
        "\n",
        "Dictionary keys must be instance of immutable types.\n",
        "\n",
        "**Cold call** What are examples of immutable values? Mutable types?\n",
        "\n",
        "Technically, this is incorrect. Dictionary keys must be _hashable_. In practice this is very similar to being immutable. However, instances of custom objects may be mutable and provide a hash method, though this is bad form."
      ]
    },
    {
      "metadata": {
        "id": "RVPXtd9eq0_w",
        "colab_type": "code",
        "colab": {}
      },
      "cell_type": "code",
      "source": [
        ""
      ],
      "execution_count": 0,
      "outputs": []
    },
    {
      "metadata": {
        "id": "xbsRXre6m6CE",
        "colab_type": "text"
      },
      "cell_type": "markdown",
      "source": [
        "tuples, strings, and number and individual characters are immutable\n"
      ]
    },
    {
      "metadata": {
        "id": "4cq6IR4anF9A",
        "colab_type": "text"
      },
      "cell_type": "markdown",
      "source": [
        "function are mutable once is created\n"
      ]
    },
    {
      "metadata": {
        "id": "AJC91OKP-E6X",
        "colab_type": "text"
      },
      "cell_type": "markdown",
      "source": [
        "#### Individual coding: Number Pairs\n",
        "Write a function that consumes a list of numbers, then returns a dictionary whose keys are *pairs* of these numbers, and whose values are the sum of the two numbers.  For example, under the pair 2, 3, we would store the sum number 5.\n",
        "\n",
        "```python\n",
        "$ dict_of_sums([1, 2, 3])\n",
        "{(0, 0): 2, (0, 1): 3, (0, 2): 4, (1, 1): 4, (1, 2): 5, (2, 2): 6}\n",
        "```"
      ]
    },
    {
      "metadata": {
        "id": "5Gv9xHVe-sUm",
        "colab_type": "text"
      },
      "cell_type": "markdown",
      "source": [
        "#### Pair coding: Dictionary Reversal Revisited\n",
        "As we have seen, when we add a key to a dictionary multiple times, the value gets overwritten.  This has consequences for reversing a dictionary\n",
        "\n",
        "```python\n",
        "$ reverse_dict({'a': 1, 'b': 2, 'c': 2}) \n",
        "{1: 'a', 2: 'c'}\n",
        "```\n",
        "\n",
        "Fix this issue in your `reverse_dictionary` function by instead creating a dictionary of lists.\n",
        "\n",
        "```python\n",
        "$ reverse_dict({'a': 1, 'b': 2, 'c': 2})\n",
        "{1: ['a'], 2: ['b', 'c']}\n",
        "```\n",
        "\n",
        "### 3.7 Looping over dictionaries.\n",
        "\n",
        "  - Looping over the keys in a dictionaries"
      ]
    },
    {
      "metadata": {
        "id": "gpLd2F8O-8Ey",
        "colab_type": "text"
      },
      "cell_type": "markdown",
      "source": [
        "\n",
        "  - Other looping options: python 2 vs. python 3\n",
        "  \n",
        " When you perform a list comprehension on a dictionary, it operates on the keys:"
      ]
    },
    {
      "metadata": {
        "id": "0USaGI6c-9Sc",
        "colab_type": "code",
        "outputId": "9afd603c-5557-4e06-b570-5d7c41e4768e",
        "colab": {
          "base_uri": "https://localhost:8080/",
          "height": 34
        }
      },
      "cell_type": "code",
      "source": [
        "a_dict = {'foo':'bar', 'black':'flag'}\n",
        "[key.upper() for key in a_dict]"
      ],
      "execution_count": 0,
      "outputs": [
        {
          "output_type": "execute_result",
          "data": {
            "text/plain": [
              "['FOO', 'BLACK']"
            ]
          },
          "metadata": {
            "tags": []
          },
          "execution_count": 30
        }
      ]
    },
    {
      "metadata": {
        "id": "lzeJpjhP_Ww9",
        "colab_type": "text"
      },
      "cell_type": "markdown",
      "source": [
        "If you want to iterate over both the keys and values of a dict, use `.items()`"
      ]
    },
    {
      "metadata": {
        "id": "Jf5AZZYg_iK8",
        "colab_type": "code",
        "outputId": "084ef595-2a99-46b1-be46-383cb70bdc20",
        "colab": {
          "base_uri": "https://localhost:8080/",
          "height": 34
        }
      },
      "cell_type": "code",
      "source": [
        "a_dict = {'foo':'bar', 'black':'flag'}\n",
        "[key.upper()+\"! \"+val.upper()+\"!\" for key,val in a_dict.items()]"
      ],
      "execution_count": 0,
      "outputs": [
        {
          "output_type": "execute_result",
          "data": {
            "text/plain": [
              "['FOO! BAR!', 'BLACK! FLAG!']"
            ]
          },
          "metadata": {
            "tags": []
          },
          "execution_count": 31
        }
      ]
    },
    {
      "metadata": {
        "id": "-N-mvk-R_tEY",
        "colab_type": "text"
      },
      "cell_type": "markdown",
      "source": [
        "Python 3 offers a _dict comprehension_. They look like this:"
      ]
    },
    {
      "metadata": {
        "id": "O-L6rkmR_3IX",
        "colab_type": "code",
        "outputId": "94061e9f-f64e-4259-b8c3-3361445dc415",
        "colab": {
          "base_uri": "https://localhost:8080/",
          "height": 34
        }
      },
      "cell_type": "code",
      "source": [
        "a_dict = {'foo':'bar', 'black':'flag'}\n",
        "{key.upper():val for key,val in a_dict.items()}"
      ],
      "execution_count": 0,
      "outputs": [
        {
          "output_type": "execute_result",
          "data": {
            "text/plain": [
              "{'BLACK': 'flag', 'FOO': 'bar'}"
            ]
          },
          "metadata": {
            "tags": []
          },
          "execution_count": 32
        }
      ]
    },
    {
      "metadata": {
        "id": "M88XlXL2rgQ3",
        "colab_type": "code",
        "colab": {}
      },
      "cell_type": "code",
      "source": [
        ""
      ],
      "execution_count": 0,
      "outputs": []
    },
    {
      "metadata": {
        "id": "a7peOPGZnL33",
        "colab_type": "text"
      },
      "cell_type": "markdown",
      "source": [
        "\n",
        "\n",
        "#### Individual coding: Merging Dictionaries\n",
        "Write a function `merge_dictionaries` which takes two dictionaries as arguments, and returns a *merged* dictionary.  That is, one containing any key, value pair that appears in *either* dictionary.\n"
      ]
    },
    {
      "metadata": {
        "id": "oEKLIg7ct6xE",
        "colab_type": "code",
        "colab": {}
      },
      "cell_type": "code",
      "source": [
        ""
      ],
      "execution_count": 0,
      "outputs": []
    }
  ]
}