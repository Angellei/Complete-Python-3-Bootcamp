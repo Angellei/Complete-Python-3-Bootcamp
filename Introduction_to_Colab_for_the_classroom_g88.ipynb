{
  "nbformat": 4,
  "nbformat_minor": 0,
  "metadata": {
    "colab": {
      "name": "Introduction to Colab for the classroom - g88",
      "version": "0.3.2",
      "provenance": [],
      "collapsed_sections": [],
      "include_colab_link": true
    },
    "kernelspec": {
      "name": "python3",
      "display_name": "Python 3"
    }
  },
  "cells": [
    {
      "cell_type": "markdown",
      "metadata": {
        "id": "view-in-github",
        "colab_type": "text"
      },
      "source": [
        "<a href=\"https://colab.research.google.com/github/Angellei/Complete-Python-3-Bootcamp/blob/master/Introduction_to_Colab_for_the_classroom_g88.ipynb\" target=\"_parent\"><img src=\"https://colab.research.google.com/assets/colab-badge.svg\" alt=\"Open In Colab\"/></a>"
      ]
    },
    {
      "metadata": {
        "id": "EGaF2GT4uTfu",
        "colab_type": "text"
      },
      "cell_type": "markdown",
      "source": [
        "# Introduction to Colab for the classroom\n",
        "\n",
        "This is an \"Google Colab\" notebook. It's very similar to Jupyter Notebook, which we'll use extensively in this class. Unlike in Jupyter notebooks, however, this is a shared document where everybody can see and make changes to the same document.\n",
        "\n",
        "The first few problems will get us acquainted with working together. "
      ]
    },
    {
      "metadata": {
        "id": "OH10kXTZycCW",
        "colab_type": "text"
      },
      "cell_type": "markdown",
      "source": [
        "**THisi s a title!!**"
      ]
    },
    {
      "metadata": {
        "id": "fPOWpm9OykZr",
        "colab_type": "text"
      },
      "cell_type": "markdown",
      "source": [
        "# This is big\n",
        "\n",
        "Hello this is a testment."
      ]
    },
    {
      "metadata": {
        "id": "IRRJVlY8yRmU",
        "colab_type": "code",
        "colab": {
          "base_uri": "https://localhost:8080/",
          "height": 34
        },
        "outputId": "f260ee28-1e49-4d56-c7c2-024a5024f5b9"
      },
      "cell_type": "code",
      "source": [
        "print(\"Hello world\")"
      ],
      "execution_count": 1,
      "outputs": [
        {
          "output_type": "stream",
          "text": [
            "Hello world\n"
          ],
          "name": "stdout"
        }
      ]
    },
    {
      "metadata": {
        "id": "WsjmO2LllnlQ",
        "colab_type": "text"
      },
      "cell_type": "markdown",
      "source": [
        "If you would like to follow along and use your own notebook, please use these instructions.\n",
        "1. Go to _file_ in the upper left corner\n",
        "2. Click _Save copy in drive_ \n",
        "3. Follow along and use your own notebook!"
      ]
    },
    {
      "metadata": {
        "id": "qrw70eY3u_VT",
        "colab_type": "code",
        "colab": {}
      },
      "cell_type": "code",
      "source": [
        ""
      ],
      "execution_count": 0,
      "outputs": []
    },
    {
      "metadata": {
        "id": "VdxBFN_OVdty",
        "colab_type": "text"
      },
      "cell_type": "markdown",
      "source": [
        ""
      ]
    },
    {
      "metadata": {
        "id": "CaBPRQN0l3mi",
        "colab_type": "code",
        "colab": {}
      },
      "cell_type": "code",
      "source": [
        ""
      ],
      "execution_count": 0,
      "outputs": []
    },
    {
      "metadata": {
        "id": "30nAHO_TlVju",
        "colab_type": "code",
        "colab": {}
      },
      "cell_type": "code",
      "source": [
        "# This is a comment in a code cell\n",
        "# Press shift + enter to execute a cell\n"
      ],
      "execution_count": 0,
      "outputs": []
    },
    {
      "metadata": {
        "id": "lwe_hsV9ul8L",
        "colab_type": "text"
      },
      "cell_type": "markdown",
      "source": [
        "## Lesson 0.0: Hello World\n",
        "\n",
        "Everyone make their own cell, and print \"hello world\".\n",
        "\n",
        "1. Click on this cell. This cell will highlight.\n",
        "1. Click the \"+ CODE\" button in the header. This will create a cell in the next line.\n",
        "    * optional: keyboard shortcut: `CMD+M B`\n",
        "1. In this cell, enter:\n",
        "\n",
        "> ```python\n",
        "> # Brandon\n",
        "> print( \"Hello world!\" )\n",
        "> ```\n",
        "\n",
        "4. Click on the \"play\" button to the left of the cell. The first time you run a cell in a colab notebook it might take as long as 10-20 seconds to finish. After that, it's a lot faster.\n",
        "    * optional: keyboard shortcut: `SHIFT+ENTER`\n",
        "    \n",
        "-----------\n"
      ]
    },
    {
      "metadata": {
        "id": "8E716PrJx7HQ",
        "colab_type": "code",
        "colab": {}
      },
      "cell_type": "code",
      "source": [
        "print(\"Hello world!\")"
      ],
      "execution_count": 0,
      "outputs": []
    },
    {
      "metadata": {
        "id": "NCcCHHCzgSQX",
        "colab_type": "text"
      },
      "cell_type": "markdown",
      "source": [
        "### Note\n",
        "\n",
        "In Python, anything after the `#` sign is _not executed_. These are called \"comments\". In the above example, the line `# brandon` is ignored by the Python interpreter and plays no role in the computer program. It's just there as a note to humans reading the code."
      ]
    },
    {
      "metadata": {
        "id": "_tExYlfHx_L1",
        "colab_type": "text"
      },
      "cell_type": "markdown",
      "source": [
        "## Lesson 0.1: Hello World, Simplified\n",
        "\n",
        "The last statement to evaluate in the cell is automatically printed. So, the `print` statement is redundant.\n",
        "\n",
        "1. Click on this cell. This cell will highlight.\n",
        "1. Click the \"+ CODE\" button in the header. This will create a cell in the next line.\n",
        "1. In this cell, enter:\n",
        "\n",
        "> ```python\n",
        "> # YOUR NAME HERE\n",
        "> \"Hello world!\"\n",
        "> ```\n",
        "\n",
        "4. Click on the \"play\" button to the left of the cell.\n",
        "\n",
        "----------"
      ]
    },
    {
      "metadata": {
        "id": "1TmStotK0HI6",
        "colab_type": "code",
        "colab": {
          "base_uri": "https://localhost:8080/",
          "height": 34
        },
        "outputId": "6748c71f-cf98-4775-c6a7-b8589834f96c"
      },
      "cell_type": "code",
      "source": [
        "1+2\n",
        "\n",
        "a = 'something'\n",
        "\n",
        "\"hello world\"\n"
      ],
      "execution_count": 3,
      "outputs": [
        {
          "output_type": "execute_result",
          "data": {
            "text/plain": [
              "'hello world'"
            ]
          },
          "metadata": {
            "tags": []
          },
          "execution_count": 3
        }
      ]
    },
    {
      "metadata": {
        "id": "esHycXYvppGK",
        "colab_type": "text"
      },
      "cell_type": "markdown",
      "source": [
        "### What's the difference?\n",
        "\n",
        "The  `print(x)` function writes the result of `str(x)` to the standard output. In a jupyter notebook, everything written to `stdout` is printed directy below the code cell.\n",
        "\n"
      ]
    },
    {
      "metadata": {
        "id": "ZKTAIvqXq3W1",
        "colab_type": "code",
        "outputId": "170f1699-37bd-4cf4-9d1b-23ea44f93913",
        "colab": {
          "base_uri": "https://localhost:8080/",
          "height": 51
        }
      },
      "cell_type": "code",
      "source": [
        "# Here we write a value to stdout, which is the same thing as print().\n",
        "\n",
        "import sys\n",
        "\n",
        "sys.stdout.write( \"Hello, standard out!\\n\" )\n",
        "print( \"Hello, print!\" )"
      ],
      "execution_count": 0,
      "outputs": [
        {
          "output_type": "stream",
          "text": [
            "Hello, standard out!\n",
            "Hello, print!\n"
          ],
          "name": "stdout"
        }
      ]
    },
    {
      "metadata": {
        "id": "JLkGw_iArOQ_",
        "colab_type": "text"
      },
      "cell_type": "markdown",
      "source": [
        "The main takeaway being: `print()` works in almost every kind of python environment - notebook, command line, script, web server, or library - because they all have access to `stdout`.\n",
        "\n",
        "Ending a cell in a Jupyter notebook with an expression `x` will print the value of `repr(x)` directly below the cell. This is special behavior particular to Jupyter notebooks. If you try this _outside_ of a Jupyter notebook, you'll have a bad time."
      ]
    },
    {
      "metadata": {
        "id": "ISIZj7Dd9RyR",
        "colab_type": "code",
        "outputId": "7805e47f-2a75-4446-d29d-11ff662c0444",
        "colab": {
          "base_uri": "https://localhost:8080/",
          "height": 34
        }
      },
      "cell_type": "code",
      "source": [
        "\"Hello, Jupyter cell!\""
      ],
      "execution_count": 0,
      "outputs": [
        {
          "output_type": "execute_result",
          "data": {
            "text/plain": [
              "'Hello, Jupyter cell!'"
            ]
          },
          "metadata": {
            "tags": []
          },
          "execution_count": 3
        }
      ]
    },
    {
      "metadata": {
        "id": "bOIFe-YezZVG",
        "colab_type": "text"
      },
      "cell_type": "markdown",
      "source": [
        "## Lesson 0.2: More than text\n",
        "\n",
        "When a cell is executed, a text value of the result of the last line is always printed.\n",
        "\n",
        "1. Create a cell and enter this:\n",
        "\n",
        "> ```python\n",
        "> # YOUR NAME HERE\n",
        "> a = YOUR OWN NUMBER\n",
        "> a\n",
        "> ```\n",
        "\n",
        "2. Run it.\n",
        "\n",
        "_Technially_: The string result of `repr(LAST_EXPRESSION)` is printed  below a cell after it's executed.\n",
        "\n",
        "--------\n",
        "\n"
      ]
    },
    {
      "metadata": {
        "id": "phfgt3sg3CwE",
        "colab_type": "text"
      },
      "cell_type": "markdown",
      "source": [
        "## Lesson 0.3: A shared workspace\n",
        "\n",
        "There is a code cell below this text cell. Everybody add a contribution, started with a comment with their name. **Do not** execute this cell. I'll execute it when you're all done."
      ]
    },
    {
      "metadata": {
        "id": "iCPQYUc53m3V",
        "colab_type": "code",
        "outputId": "e461fa32-9824-4798-9204-c20ca686ebf7",
        "colab": {
          "base_uri": "https://localhost:8080/",
          "height": 34
        }
      },
      "cell_type": "code",
      "source": [
        "# brandon\n",
        "foo = 12\n",
        "bar = 45\n",
        "print( foo / bar )\n"
      ],
      "execution_count": 0,
      "outputs": [
        {
          "output_type": "stream",
          "text": [
            "0.26666666666666666\n"
          ],
          "name": "stdout"
        }
      ]
    },
    {
      "metadata": {
        "id": "kpCLa8_45EUx",
        "colab_type": "text"
      },
      "cell_type": "markdown",
      "source": [
        "## Lesson 0.4: A _non-shared_ namespace\n",
        "\n",
        "A **namespace** is the set of variables. To say that a piece of code has access to a namespace means that it can access all variables in that namespace.\n",
        "\n",
        "When we share a Colab notebook, we each are sharing a single document. However, we all have _separate namespaces_.\n",
        "\n",
        "For example - run the following code.\n",
        "\n",
        "\n"
      ]
    },
    {
      "metadata": {
        "id": "3rg2Cra95_gU",
        "colab_type": "code",
        "outputId": "47fb6d9f-5c75-45f9-8e51-d89a783ed845",
        "colab": {
          "base_uri": "https://localhost:8080/",
          "height": 181
        }
      },
      "cell_type": "code",
      "source": [
        "# just print the value of the variable 'a'\n",
        "a\n",
        "x"
      ],
      "execution_count": 0,
      "outputs": [
        {
          "output_type": "error",
          "ename": "NameError",
          "evalue": "ignored",
          "traceback": [
            "\u001b[0;31m---------------------------------------------------------------------------\u001b[0m",
            "\u001b[0;31mNameError\u001b[0m                                 Traceback (most recent call last)",
            "\u001b[0;32m<ipython-input-5-e6f97ac249f9>\u001b[0m in \u001b[0;36m<module>\u001b[0;34m()\u001b[0m\n\u001b[0;32m----> 1\u001b[0;31m \u001b[0ma\u001b[0m\u001b[0;34m\u001b[0m\u001b[0;34m\u001b[0m\u001b[0m\n\u001b[0m\u001b[1;32m      2\u001b[0m \u001b[0mx\u001b[0m\u001b[0;34m\u001b[0m\u001b[0;34m\u001b[0m\u001b[0m\n",
            "\u001b[0;31mNameError\u001b[0m: name 'a' is not defined"
          ]
        }
      ]
    },
    {
      "metadata": {
        "id": "AI-25eftw43M",
        "colab_type": "text"
      },
      "cell_type": "markdown",
      "source": [
        "The value printed into this shared document depends on the _person who runs it_."
      ]
    },
    {
      "metadata": {
        "id": "6VWdBHbJvgKt",
        "colab_type": "text"
      },
      "cell_type": "markdown",
      "source": [
        "This can be useful. It means that other people can't run cells to change the value of variables in _your_ workspace. For example:"
      ]
    },
    {
      "metadata": {
        "id": "_J6lPEKbvuSl",
        "colab_type": "code",
        "colab": {}
      },
      "cell_type": "code",
      "source": [
        "# Brandon creates and runs this cell.\n",
        "\n",
        "#brandon\n",
        "foo = 15"
      ],
      "execution_count": 0,
      "outputs": []
    },
    {
      "metadata": {
        "id": "uMl4TFhFv4nx",
        "colab_type": "code",
        "colab": {}
      },
      "cell_type": "code",
      "source": [
        "# You create and run this cell:\n",
        "\n",
        "#your_name\n",
        "foo = 356"
      ],
      "execution_count": 0,
      "outputs": []
    },
    {
      "metadata": {
        "id": "7ppRSvwmwBL4",
        "colab_type": "text"
      },
      "cell_type": "markdown",
      "source": [
        "I then say: everybody print out the square root of `foo`."
      ]
    },
    {
      "metadata": {
        "id": "ID4em_BzwKMu",
        "colab_type": "code",
        "colab": {}
      },
      "cell_type": "code",
      "source": [
        "# Brandon writes an entry:\n",
        "\n",
        "foo**0.5\n",
        "\n",
        "# ==> prints out \"3.872983346207417\", which is correct for brandon"
      ],
      "execution_count": 0,
      "outputs": []
    },
    {
      "metadata": {
        "id": "EQ-hAhzEwZo1",
        "colab_type": "code",
        "colab": {}
      },
      "cell_type": "code",
      "source": [
        "# You submit your own entry:\n",
        "\n",
        "from math import sqrt\n",
        "sqrt( foo )\n",
        "\n",
        "# ==> prints out \"18.867962264113206\", which is correct for you"
      ],
      "execution_count": 0,
      "outputs": []
    }
  ]
}